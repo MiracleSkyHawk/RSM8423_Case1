{
  "nbformat": 4,
  "nbformat_minor": 0,
  "metadata": {
    "colab": {
      "provenance": []
    },
    "kernelspec": {
      "name": "python3",
      "display_name": "Python 3"
    },
    "language_info": {
      "name": "python"
    }
  },
  "cells": [
    {
      "cell_type": "code",
      "source": [
        "pip install pulp"
      ],
      "metadata": {
        "colab": {
          "base_uri": "https://localhost:8080/"
        },
        "id": "v_sZzf_-1KgL",
        "outputId": "50cd61b0-874d-432e-a80e-9e41664bc3ad"
      },
      "execution_count": 672,
      "outputs": [
        {
          "output_type": "stream",
          "name": "stdout",
          "text": [
            "Looking in indexes: https://pypi.org/simple, https://us-python.pkg.dev/colab-wheels/public/simple/\n",
            "Requirement already satisfied: pulp in /usr/local/lib/python3.8/dist-packages (2.7.0)\n"
          ]
        }
      ]
    },
    {
      "cell_type": "code",
      "execution_count": 673,
      "metadata": {
        "id": "IWAb73f40COc"
      },
      "outputs": [],
      "source": [
        "import pandas as pd\n",
        "import numpy as np\n",
        "import matplotlib.pyplot as plt\n",
        "import seaborn as sns\n",
        "import pulp\n",
        "\n",
        "from scipy import stats\n",
        "\n",
        "# Initialize seaborn (for plotting)\n",
        "sns.set()"
      ]
    },
    {
      "cell_type": "markdown",
      "source": [
        "### LOAD DATA"
      ],
      "metadata": {
        "id": "pYhqqnmC0Hx5"
      }
    },
    {
      "cell_type": "code",
      "source": [
        "dfCenters = pd.read_csv(\"centers.csv\")\n",
        "dfDemands = pd.read_csv(\"demands.csv\")\n",
        "dfDistances = pd.read_csv(\"distances.csv\")"
      ],
      "metadata": {
        "id": "Aqjiy_ko0aZT"
      },
      "execution_count": 3,
      "outputs": []
    },
    {
      "cell_type": "code",
      "source": [
        "dfDemands"
      ],
      "metadata": {
        "colab": {
          "base_uri": "https://localhost:8080/",
          "height": 424
        },
        "id": "r_gR8_4v1Owc",
        "outputId": "f049e013-96ed-4e1f-fe74-e60e39d6ab7b"
      },
      "execution_count": 4,
      "outputs": [
        {
          "output_type": "execute_result",
          "data": {
            "text/plain": [
              "    Year            Region  Demand\n",
              "0   2013  Downtown Toronto  249581\n",
              "1   2013         East York  172730\n",
              "2   2013         Etobicoke  285764\n",
              "3   2013  Mississauga East  255427\n",
              "4   2013     North Toronto  263276\n",
              "..   ...               ...     ...\n",
              "65  2022         Etobicoke  445369\n",
              "66  2022  Mississauga East  395768\n",
              "67  2022     North Toronto  406148\n",
              "68  2022        North York  494386\n",
              "69  2022  Scarborough East  433845\n",
              "\n",
              "[70 rows x 3 columns]"
            ],
            "text/html": [
              "\n",
              "  <div id=\"df-451a0a0d-c94e-4559-9769-6154099af773\">\n",
              "    <div class=\"colab-df-container\">\n",
              "      <div>\n",
              "<style scoped>\n",
              "    .dataframe tbody tr th:only-of-type {\n",
              "        vertical-align: middle;\n",
              "    }\n",
              "\n",
              "    .dataframe tbody tr th {\n",
              "        vertical-align: top;\n",
              "    }\n",
              "\n",
              "    .dataframe thead th {\n",
              "        text-align: right;\n",
              "    }\n",
              "</style>\n",
              "<table border=\"1\" class=\"dataframe\">\n",
              "  <thead>\n",
              "    <tr style=\"text-align: right;\">\n",
              "      <th></th>\n",
              "      <th>Year</th>\n",
              "      <th>Region</th>\n",
              "      <th>Demand</th>\n",
              "    </tr>\n",
              "  </thead>\n",
              "  <tbody>\n",
              "    <tr>\n",
              "      <th>0</th>\n",
              "      <td>2013</td>\n",
              "      <td>Downtown Toronto</td>\n",
              "      <td>249581</td>\n",
              "    </tr>\n",
              "    <tr>\n",
              "      <th>1</th>\n",
              "      <td>2013</td>\n",
              "      <td>East York</td>\n",
              "      <td>172730</td>\n",
              "    </tr>\n",
              "    <tr>\n",
              "      <th>2</th>\n",
              "      <td>2013</td>\n",
              "      <td>Etobicoke</td>\n",
              "      <td>285764</td>\n",
              "    </tr>\n",
              "    <tr>\n",
              "      <th>3</th>\n",
              "      <td>2013</td>\n",
              "      <td>Mississauga East</td>\n",
              "      <td>255427</td>\n",
              "    </tr>\n",
              "    <tr>\n",
              "      <th>4</th>\n",
              "      <td>2013</td>\n",
              "      <td>North Toronto</td>\n",
              "      <td>263276</td>\n",
              "    </tr>\n",
              "    <tr>\n",
              "      <th>...</th>\n",
              "      <td>...</td>\n",
              "      <td>...</td>\n",
              "      <td>...</td>\n",
              "    </tr>\n",
              "    <tr>\n",
              "      <th>65</th>\n",
              "      <td>2022</td>\n",
              "      <td>Etobicoke</td>\n",
              "      <td>445369</td>\n",
              "    </tr>\n",
              "    <tr>\n",
              "      <th>66</th>\n",
              "      <td>2022</td>\n",
              "      <td>Mississauga East</td>\n",
              "      <td>395768</td>\n",
              "    </tr>\n",
              "    <tr>\n",
              "      <th>67</th>\n",
              "      <td>2022</td>\n",
              "      <td>North Toronto</td>\n",
              "      <td>406148</td>\n",
              "    </tr>\n",
              "    <tr>\n",
              "      <th>68</th>\n",
              "      <td>2022</td>\n",
              "      <td>North York</td>\n",
              "      <td>494386</td>\n",
              "    </tr>\n",
              "    <tr>\n",
              "      <th>69</th>\n",
              "      <td>2022</td>\n",
              "      <td>Scarborough East</td>\n",
              "      <td>433845</td>\n",
              "    </tr>\n",
              "  </tbody>\n",
              "</table>\n",
              "<p>70 rows × 3 columns</p>\n",
              "</div>\n",
              "      <button class=\"colab-df-convert\" onclick=\"convertToInteractive('df-451a0a0d-c94e-4559-9769-6154099af773')\"\n",
              "              title=\"Convert this dataframe to an interactive table.\"\n",
              "              style=\"display:none;\">\n",
              "        \n",
              "  <svg xmlns=\"http://www.w3.org/2000/svg\" height=\"24px\"viewBox=\"0 0 24 24\"\n",
              "       width=\"24px\">\n",
              "    <path d=\"M0 0h24v24H0V0z\" fill=\"none\"/>\n",
              "    <path d=\"M18.56 5.44l.94 2.06.94-2.06 2.06-.94-2.06-.94-.94-2.06-.94 2.06-2.06.94zm-11 1L8.5 8.5l.94-2.06 2.06-.94-2.06-.94L8.5 2.5l-.94 2.06-2.06.94zm10 10l.94 2.06.94-2.06 2.06-.94-2.06-.94-.94-2.06-.94 2.06-2.06.94z\"/><path d=\"M17.41 7.96l-1.37-1.37c-.4-.4-.92-.59-1.43-.59-.52 0-1.04.2-1.43.59L10.3 9.45l-7.72 7.72c-.78.78-.78 2.05 0 2.83L4 21.41c.39.39.9.59 1.41.59.51 0 1.02-.2 1.41-.59l7.78-7.78 2.81-2.81c.8-.78.8-2.07 0-2.86zM5.41 20L4 18.59l7.72-7.72 1.47 1.35L5.41 20z\"/>\n",
              "  </svg>\n",
              "      </button>\n",
              "      \n",
              "  <style>\n",
              "    .colab-df-container {\n",
              "      display:flex;\n",
              "      flex-wrap:wrap;\n",
              "      gap: 12px;\n",
              "    }\n",
              "\n",
              "    .colab-df-convert {\n",
              "      background-color: #E8F0FE;\n",
              "      border: none;\n",
              "      border-radius: 50%;\n",
              "      cursor: pointer;\n",
              "      display: none;\n",
              "      fill: #1967D2;\n",
              "      height: 32px;\n",
              "      padding: 0 0 0 0;\n",
              "      width: 32px;\n",
              "    }\n",
              "\n",
              "    .colab-df-convert:hover {\n",
              "      background-color: #E2EBFA;\n",
              "      box-shadow: 0px 1px 2px rgba(60, 64, 67, 0.3), 0px 1px 3px 1px rgba(60, 64, 67, 0.15);\n",
              "      fill: #174EA6;\n",
              "    }\n",
              "\n",
              "    [theme=dark] .colab-df-convert {\n",
              "      background-color: #3B4455;\n",
              "      fill: #D2E3FC;\n",
              "    }\n",
              "\n",
              "    [theme=dark] .colab-df-convert:hover {\n",
              "      background-color: #434B5C;\n",
              "      box-shadow: 0px 1px 3px 1px rgba(0, 0, 0, 0.15);\n",
              "      filter: drop-shadow(0px 1px 2px rgba(0, 0, 0, 0.3));\n",
              "      fill: #FFFFFF;\n",
              "    }\n",
              "  </style>\n",
              "\n",
              "      <script>\n",
              "        const buttonEl =\n",
              "          document.querySelector('#df-451a0a0d-c94e-4559-9769-6154099af773 button.colab-df-convert');\n",
              "        buttonEl.style.display =\n",
              "          google.colab.kernel.accessAllowed ? 'block' : 'none';\n",
              "\n",
              "        async function convertToInteractive(key) {\n",
              "          const element = document.querySelector('#df-451a0a0d-c94e-4559-9769-6154099af773');\n",
              "          const dataTable =\n",
              "            await google.colab.kernel.invokeFunction('convertToInteractive',\n",
              "                                                     [key], {});\n",
              "          if (!dataTable) return;\n",
              "\n",
              "          const docLinkHtml = 'Like what you see? Visit the ' +\n",
              "            '<a target=\"_blank\" href=https://colab.research.google.com/notebooks/data_table.ipynb>data table notebook</a>'\n",
              "            + ' to learn more about interactive tables.';\n",
              "          element.innerHTML = '';\n",
              "          dataTable['output_type'] = 'display_data';\n",
              "          await google.colab.output.renderOutput(dataTable, element);\n",
              "          const docLink = document.createElement('div');\n",
              "          docLink.innerHTML = docLinkHtml;\n",
              "          element.appendChild(docLink);\n",
              "        }\n",
              "      </script>\n",
              "    </div>\n",
              "  </div>\n",
              "  "
            ]
          },
          "metadata": {},
          "execution_count": 4
        }
      ]
    },
    {
      "cell_type": "code",
      "source": [
        "dfCenters"
      ],
      "metadata": {
        "colab": {
          "base_uri": "https://localhost:8080/",
          "height": 238
        },
        "id": "jR9jqAagIdNN",
        "outputId": "fbb8980c-3f7f-4f6a-fddc-7a7d34ab2d4f"
      },
      "execution_count": 5,
      "outputs": [
        {
          "output_type": "execute_result",
          "data": {
            "text/plain": [
              "     Center  Opening Costs  Operating Costs  Num MPs  Maximum capacity\n",
              "0  Center A              0           275000      215           5000000\n",
              "1  Center B              0           275000      125           5000000\n",
              "2  Center C              0           275000      100           5000000\n",
              "3  Center D              0           285000      120           5000000\n",
              "4  Center E         250000           125000        0           5000000\n",
              "5  Center F         100000           175000        0           5000000"
            ],
            "text/html": [
              "\n",
              "  <div id=\"df-c24e3080-b62f-471b-a696-b1b1841e9129\">\n",
              "    <div class=\"colab-df-container\">\n",
              "      <div>\n",
              "<style scoped>\n",
              "    .dataframe tbody tr th:only-of-type {\n",
              "        vertical-align: middle;\n",
              "    }\n",
              "\n",
              "    .dataframe tbody tr th {\n",
              "        vertical-align: top;\n",
              "    }\n",
              "\n",
              "    .dataframe thead th {\n",
              "        text-align: right;\n",
              "    }\n",
              "</style>\n",
              "<table border=\"1\" class=\"dataframe\">\n",
              "  <thead>\n",
              "    <tr style=\"text-align: right;\">\n",
              "      <th></th>\n",
              "      <th>Center</th>\n",
              "      <th>Opening Costs</th>\n",
              "      <th>Operating Costs</th>\n",
              "      <th>Num MPs</th>\n",
              "      <th>Maximum capacity</th>\n",
              "    </tr>\n",
              "  </thead>\n",
              "  <tbody>\n",
              "    <tr>\n",
              "      <th>0</th>\n",
              "      <td>Center A</td>\n",
              "      <td>0</td>\n",
              "      <td>275000</td>\n",
              "      <td>215</td>\n",
              "      <td>5000000</td>\n",
              "    </tr>\n",
              "    <tr>\n",
              "      <th>1</th>\n",
              "      <td>Center B</td>\n",
              "      <td>0</td>\n",
              "      <td>275000</td>\n",
              "      <td>125</td>\n",
              "      <td>5000000</td>\n",
              "    </tr>\n",
              "    <tr>\n",
              "      <th>2</th>\n",
              "      <td>Center C</td>\n",
              "      <td>0</td>\n",
              "      <td>275000</td>\n",
              "      <td>100</td>\n",
              "      <td>5000000</td>\n",
              "    </tr>\n",
              "    <tr>\n",
              "      <th>3</th>\n",
              "      <td>Center D</td>\n",
              "      <td>0</td>\n",
              "      <td>285000</td>\n",
              "      <td>120</td>\n",
              "      <td>5000000</td>\n",
              "    </tr>\n",
              "    <tr>\n",
              "      <th>4</th>\n",
              "      <td>Center E</td>\n",
              "      <td>250000</td>\n",
              "      <td>125000</td>\n",
              "      <td>0</td>\n",
              "      <td>5000000</td>\n",
              "    </tr>\n",
              "    <tr>\n",
              "      <th>5</th>\n",
              "      <td>Center F</td>\n",
              "      <td>100000</td>\n",
              "      <td>175000</td>\n",
              "      <td>0</td>\n",
              "      <td>5000000</td>\n",
              "    </tr>\n",
              "  </tbody>\n",
              "</table>\n",
              "</div>\n",
              "      <button class=\"colab-df-convert\" onclick=\"convertToInteractive('df-c24e3080-b62f-471b-a696-b1b1841e9129')\"\n",
              "              title=\"Convert this dataframe to an interactive table.\"\n",
              "              style=\"display:none;\">\n",
              "        \n",
              "  <svg xmlns=\"http://www.w3.org/2000/svg\" height=\"24px\"viewBox=\"0 0 24 24\"\n",
              "       width=\"24px\">\n",
              "    <path d=\"M0 0h24v24H0V0z\" fill=\"none\"/>\n",
              "    <path d=\"M18.56 5.44l.94 2.06.94-2.06 2.06-.94-2.06-.94-.94-2.06-.94 2.06-2.06.94zm-11 1L8.5 8.5l.94-2.06 2.06-.94-2.06-.94L8.5 2.5l-.94 2.06-2.06.94zm10 10l.94 2.06.94-2.06 2.06-.94-2.06-.94-.94-2.06-.94 2.06-2.06.94z\"/><path d=\"M17.41 7.96l-1.37-1.37c-.4-.4-.92-.59-1.43-.59-.52 0-1.04.2-1.43.59L10.3 9.45l-7.72 7.72c-.78.78-.78 2.05 0 2.83L4 21.41c.39.39.9.59 1.41.59.51 0 1.02-.2 1.41-.59l7.78-7.78 2.81-2.81c.8-.78.8-2.07 0-2.86zM5.41 20L4 18.59l7.72-7.72 1.47 1.35L5.41 20z\"/>\n",
              "  </svg>\n",
              "      </button>\n",
              "      \n",
              "  <style>\n",
              "    .colab-df-container {\n",
              "      display:flex;\n",
              "      flex-wrap:wrap;\n",
              "      gap: 12px;\n",
              "    }\n",
              "\n",
              "    .colab-df-convert {\n",
              "      background-color: #E8F0FE;\n",
              "      border: none;\n",
              "      border-radius: 50%;\n",
              "      cursor: pointer;\n",
              "      display: none;\n",
              "      fill: #1967D2;\n",
              "      height: 32px;\n",
              "      padding: 0 0 0 0;\n",
              "      width: 32px;\n",
              "    }\n",
              "\n",
              "    .colab-df-convert:hover {\n",
              "      background-color: #E2EBFA;\n",
              "      box-shadow: 0px 1px 2px rgba(60, 64, 67, 0.3), 0px 1px 3px 1px rgba(60, 64, 67, 0.15);\n",
              "      fill: #174EA6;\n",
              "    }\n",
              "\n",
              "    [theme=dark] .colab-df-convert {\n",
              "      background-color: #3B4455;\n",
              "      fill: #D2E3FC;\n",
              "    }\n",
              "\n",
              "    [theme=dark] .colab-df-convert:hover {\n",
              "      background-color: #434B5C;\n",
              "      box-shadow: 0px 1px 3px 1px rgba(0, 0, 0, 0.15);\n",
              "      filter: drop-shadow(0px 1px 2px rgba(0, 0, 0, 0.3));\n",
              "      fill: #FFFFFF;\n",
              "    }\n",
              "  </style>\n",
              "\n",
              "      <script>\n",
              "        const buttonEl =\n",
              "          document.querySelector('#df-c24e3080-b62f-471b-a696-b1b1841e9129 button.colab-df-convert');\n",
              "        buttonEl.style.display =\n",
              "          google.colab.kernel.accessAllowed ? 'block' : 'none';\n",
              "\n",
              "        async function convertToInteractive(key) {\n",
              "          const element = document.querySelector('#df-c24e3080-b62f-471b-a696-b1b1841e9129');\n",
              "          const dataTable =\n",
              "            await google.colab.kernel.invokeFunction('convertToInteractive',\n",
              "                                                     [key], {});\n",
              "          if (!dataTable) return;\n",
              "\n",
              "          const docLinkHtml = 'Like what you see? Visit the ' +\n",
              "            '<a target=\"_blank\" href=https://colab.research.google.com/notebooks/data_table.ipynb>data table notebook</a>'\n",
              "            + ' to learn more about interactive tables.';\n",
              "          element.innerHTML = '';\n",
              "          dataTable['output_type'] = 'display_data';\n",
              "          await google.colab.output.renderOutput(dataTable, element);\n",
              "          const docLink = document.createElement('div');\n",
              "          docLink.innerHTML = docLinkHtml;\n",
              "          element.appendChild(docLink);\n",
              "        }\n",
              "      </script>\n",
              "    </div>\n",
              "  </div>\n",
              "  "
            ]
          },
          "metadata": {},
          "execution_count": 5
        }
      ]
    },
    {
      "cell_type": "code",
      "source": [
        "dfDistances"
      ],
      "metadata": {
        "colab": {
          "base_uri": "https://localhost:8080/",
          "height": 1000
        },
        "id": "x8D55naeIkVf",
        "outputId": "a1b7a5b1-5204-4c3b-9e29-ff5997ecdfb9"
      },
      "execution_count": 60,
      "outputs": [
        {
          "output_type": "execute_result",
          "data": {
            "text/plain": [
              "      Center            Region  Distance\n",
              "0   Center A  Downtown Toronto     25.77\n",
              "1   Center A         East York      2.24\n",
              "2   Center A         Etobicoke     25.72\n",
              "3   Center A  Mississauga East     28.65\n",
              "4   Center A     North Toronto     11.64\n",
              "5   Center A        North York      0.00\n",
              "6   Center A  Scarborough East     19.76\n",
              "7   Center B  Downtown Toronto     29.88\n",
              "8   Center B         East York     16.04\n",
              "9   Center B         Etobicoke     31.11\n",
              "10  Center B  Mississauga East     33.93\n",
              "11  Center B     North Toronto     25.05\n",
              "12  Center B        North York     22.98\n",
              "13  Center B  Scarborough East      0.00\n",
              "14  Center C  Downtown Toronto     19.10\n",
              "15  Center C         East York     22.45\n",
              "16  Center C         Etobicoke     26.93\n",
              "17  Center C  Mississauga East     21.58\n",
              "18  Center C     North Toronto     22.99\n",
              "19  Center C        North York     20.52\n",
              "20  Center C  Scarborough East     14.86\n",
              "21  Center D  Downtown Toronto     29.88\n",
              "22  Center D         East York     16.04\n",
              "23  Center D         Etobicoke     31.11\n",
              "24  Center D  Mississauga East      0.00\n",
              "25  Center D     North Toronto     25.05\n",
              "26  Center D        North York     22.98\n",
              "27  Center D  Scarborough East     26.78\n",
              "28  Center E  Downtown Toronto      6.37\n",
              "29  Center E         East York     20.93\n",
              "30  Center E         Etobicoke     23.20\n",
              "31  Center E  Mississauga East     20.65\n",
              "32  Center E     North Toronto      0.00\n",
              "33  Center E        North York     11.64\n",
              "34  Center E  Scarborough East     25.89\n",
              "35  Center F  Downtown Toronto     18.83\n",
              "36  Center F         East York     30.70\n",
              "37  Center F         Etobicoke     25.64\n",
              "38  Center F  Mississauga East      0.00\n",
              "39  Center F     North Toronto     20.65\n",
              "40  Center F        North York     28.65\n",
              "41  Center F  Scarborough East     17.01"
            ],
            "text/html": [
              "\n",
              "  <div id=\"df-c6634ed2-ca59-49b2-babd-87b0a933ff7f\">\n",
              "    <div class=\"colab-df-container\">\n",
              "      <div>\n",
              "<style scoped>\n",
              "    .dataframe tbody tr th:only-of-type {\n",
              "        vertical-align: middle;\n",
              "    }\n",
              "\n",
              "    .dataframe tbody tr th {\n",
              "        vertical-align: top;\n",
              "    }\n",
              "\n",
              "    .dataframe thead th {\n",
              "        text-align: right;\n",
              "    }\n",
              "</style>\n",
              "<table border=\"1\" class=\"dataframe\">\n",
              "  <thead>\n",
              "    <tr style=\"text-align: right;\">\n",
              "      <th></th>\n",
              "      <th>Center</th>\n",
              "      <th>Region</th>\n",
              "      <th>Distance</th>\n",
              "    </tr>\n",
              "  </thead>\n",
              "  <tbody>\n",
              "    <tr>\n",
              "      <th>0</th>\n",
              "      <td>Center A</td>\n",
              "      <td>Downtown Toronto</td>\n",
              "      <td>25.77</td>\n",
              "    </tr>\n",
              "    <tr>\n",
              "      <th>1</th>\n",
              "      <td>Center A</td>\n",
              "      <td>East York</td>\n",
              "      <td>2.24</td>\n",
              "    </tr>\n",
              "    <tr>\n",
              "      <th>2</th>\n",
              "      <td>Center A</td>\n",
              "      <td>Etobicoke</td>\n",
              "      <td>25.72</td>\n",
              "    </tr>\n",
              "    <tr>\n",
              "      <th>3</th>\n",
              "      <td>Center A</td>\n",
              "      <td>Mississauga East</td>\n",
              "      <td>28.65</td>\n",
              "    </tr>\n",
              "    <tr>\n",
              "      <th>4</th>\n",
              "      <td>Center A</td>\n",
              "      <td>North Toronto</td>\n",
              "      <td>11.64</td>\n",
              "    </tr>\n",
              "    <tr>\n",
              "      <th>5</th>\n",
              "      <td>Center A</td>\n",
              "      <td>North York</td>\n",
              "      <td>0.00</td>\n",
              "    </tr>\n",
              "    <tr>\n",
              "      <th>6</th>\n",
              "      <td>Center A</td>\n",
              "      <td>Scarborough East</td>\n",
              "      <td>19.76</td>\n",
              "    </tr>\n",
              "    <tr>\n",
              "      <th>7</th>\n",
              "      <td>Center B</td>\n",
              "      <td>Downtown Toronto</td>\n",
              "      <td>29.88</td>\n",
              "    </tr>\n",
              "    <tr>\n",
              "      <th>8</th>\n",
              "      <td>Center B</td>\n",
              "      <td>East York</td>\n",
              "      <td>16.04</td>\n",
              "    </tr>\n",
              "    <tr>\n",
              "      <th>9</th>\n",
              "      <td>Center B</td>\n",
              "      <td>Etobicoke</td>\n",
              "      <td>31.11</td>\n",
              "    </tr>\n",
              "    <tr>\n",
              "      <th>10</th>\n",
              "      <td>Center B</td>\n",
              "      <td>Mississauga East</td>\n",
              "      <td>33.93</td>\n",
              "    </tr>\n",
              "    <tr>\n",
              "      <th>11</th>\n",
              "      <td>Center B</td>\n",
              "      <td>North Toronto</td>\n",
              "      <td>25.05</td>\n",
              "    </tr>\n",
              "    <tr>\n",
              "      <th>12</th>\n",
              "      <td>Center B</td>\n",
              "      <td>North York</td>\n",
              "      <td>22.98</td>\n",
              "    </tr>\n",
              "    <tr>\n",
              "      <th>13</th>\n",
              "      <td>Center B</td>\n",
              "      <td>Scarborough East</td>\n",
              "      <td>0.00</td>\n",
              "    </tr>\n",
              "    <tr>\n",
              "      <th>14</th>\n",
              "      <td>Center C</td>\n",
              "      <td>Downtown Toronto</td>\n",
              "      <td>19.10</td>\n",
              "    </tr>\n",
              "    <tr>\n",
              "      <th>15</th>\n",
              "      <td>Center C</td>\n",
              "      <td>East York</td>\n",
              "      <td>22.45</td>\n",
              "    </tr>\n",
              "    <tr>\n",
              "      <th>16</th>\n",
              "      <td>Center C</td>\n",
              "      <td>Etobicoke</td>\n",
              "      <td>26.93</td>\n",
              "    </tr>\n",
              "    <tr>\n",
              "      <th>17</th>\n",
              "      <td>Center C</td>\n",
              "      <td>Mississauga East</td>\n",
              "      <td>21.58</td>\n",
              "    </tr>\n",
              "    <tr>\n",
              "      <th>18</th>\n",
              "      <td>Center C</td>\n",
              "      <td>North Toronto</td>\n",
              "      <td>22.99</td>\n",
              "    </tr>\n",
              "    <tr>\n",
              "      <th>19</th>\n",
              "      <td>Center C</td>\n",
              "      <td>North York</td>\n",
              "      <td>20.52</td>\n",
              "    </tr>\n",
              "    <tr>\n",
              "      <th>20</th>\n",
              "      <td>Center C</td>\n",
              "      <td>Scarborough East</td>\n",
              "      <td>14.86</td>\n",
              "    </tr>\n",
              "    <tr>\n",
              "      <th>21</th>\n",
              "      <td>Center D</td>\n",
              "      <td>Downtown Toronto</td>\n",
              "      <td>29.88</td>\n",
              "    </tr>\n",
              "    <tr>\n",
              "      <th>22</th>\n",
              "      <td>Center D</td>\n",
              "      <td>East York</td>\n",
              "      <td>16.04</td>\n",
              "    </tr>\n",
              "    <tr>\n",
              "      <th>23</th>\n",
              "      <td>Center D</td>\n",
              "      <td>Etobicoke</td>\n",
              "      <td>31.11</td>\n",
              "    </tr>\n",
              "    <tr>\n",
              "      <th>24</th>\n",
              "      <td>Center D</td>\n",
              "      <td>Mississauga East</td>\n",
              "      <td>0.00</td>\n",
              "    </tr>\n",
              "    <tr>\n",
              "      <th>25</th>\n",
              "      <td>Center D</td>\n",
              "      <td>North Toronto</td>\n",
              "      <td>25.05</td>\n",
              "    </tr>\n",
              "    <tr>\n",
              "      <th>26</th>\n",
              "      <td>Center D</td>\n",
              "      <td>North York</td>\n",
              "      <td>22.98</td>\n",
              "    </tr>\n",
              "    <tr>\n",
              "      <th>27</th>\n",
              "      <td>Center D</td>\n",
              "      <td>Scarborough East</td>\n",
              "      <td>26.78</td>\n",
              "    </tr>\n",
              "    <tr>\n",
              "      <th>28</th>\n",
              "      <td>Center E</td>\n",
              "      <td>Downtown Toronto</td>\n",
              "      <td>6.37</td>\n",
              "    </tr>\n",
              "    <tr>\n",
              "      <th>29</th>\n",
              "      <td>Center E</td>\n",
              "      <td>East York</td>\n",
              "      <td>20.93</td>\n",
              "    </tr>\n",
              "    <tr>\n",
              "      <th>30</th>\n",
              "      <td>Center E</td>\n",
              "      <td>Etobicoke</td>\n",
              "      <td>23.20</td>\n",
              "    </tr>\n",
              "    <tr>\n",
              "      <th>31</th>\n",
              "      <td>Center E</td>\n",
              "      <td>Mississauga East</td>\n",
              "      <td>20.65</td>\n",
              "    </tr>\n",
              "    <tr>\n",
              "      <th>32</th>\n",
              "      <td>Center E</td>\n",
              "      <td>North Toronto</td>\n",
              "      <td>0.00</td>\n",
              "    </tr>\n",
              "    <tr>\n",
              "      <th>33</th>\n",
              "      <td>Center E</td>\n",
              "      <td>North York</td>\n",
              "      <td>11.64</td>\n",
              "    </tr>\n",
              "    <tr>\n",
              "      <th>34</th>\n",
              "      <td>Center E</td>\n",
              "      <td>Scarborough East</td>\n",
              "      <td>25.89</td>\n",
              "    </tr>\n",
              "    <tr>\n",
              "      <th>35</th>\n",
              "      <td>Center F</td>\n",
              "      <td>Downtown Toronto</td>\n",
              "      <td>18.83</td>\n",
              "    </tr>\n",
              "    <tr>\n",
              "      <th>36</th>\n",
              "      <td>Center F</td>\n",
              "      <td>East York</td>\n",
              "      <td>30.70</td>\n",
              "    </tr>\n",
              "    <tr>\n",
              "      <th>37</th>\n",
              "      <td>Center F</td>\n",
              "      <td>Etobicoke</td>\n",
              "      <td>25.64</td>\n",
              "    </tr>\n",
              "    <tr>\n",
              "      <th>38</th>\n",
              "      <td>Center F</td>\n",
              "      <td>Mississauga East</td>\n",
              "      <td>0.00</td>\n",
              "    </tr>\n",
              "    <tr>\n",
              "      <th>39</th>\n",
              "      <td>Center F</td>\n",
              "      <td>North Toronto</td>\n",
              "      <td>20.65</td>\n",
              "    </tr>\n",
              "    <tr>\n",
              "      <th>40</th>\n",
              "      <td>Center F</td>\n",
              "      <td>North York</td>\n",
              "      <td>28.65</td>\n",
              "    </tr>\n",
              "    <tr>\n",
              "      <th>41</th>\n",
              "      <td>Center F</td>\n",
              "      <td>Scarborough East</td>\n",
              "      <td>17.01</td>\n",
              "    </tr>\n",
              "  </tbody>\n",
              "</table>\n",
              "</div>\n",
              "      <button class=\"colab-df-convert\" onclick=\"convertToInteractive('df-c6634ed2-ca59-49b2-babd-87b0a933ff7f')\"\n",
              "              title=\"Convert this dataframe to an interactive table.\"\n",
              "              style=\"display:none;\">\n",
              "        \n",
              "  <svg xmlns=\"http://www.w3.org/2000/svg\" height=\"24px\"viewBox=\"0 0 24 24\"\n",
              "       width=\"24px\">\n",
              "    <path d=\"M0 0h24v24H0V0z\" fill=\"none\"/>\n",
              "    <path d=\"M18.56 5.44l.94 2.06.94-2.06 2.06-.94-2.06-.94-.94-2.06-.94 2.06-2.06.94zm-11 1L8.5 8.5l.94-2.06 2.06-.94-2.06-.94L8.5 2.5l-.94 2.06-2.06.94zm10 10l.94 2.06.94-2.06 2.06-.94-2.06-.94-.94-2.06-.94 2.06-2.06.94z\"/><path d=\"M17.41 7.96l-1.37-1.37c-.4-.4-.92-.59-1.43-.59-.52 0-1.04.2-1.43.59L10.3 9.45l-7.72 7.72c-.78.78-.78 2.05 0 2.83L4 21.41c.39.39.9.59 1.41.59.51 0 1.02-.2 1.41-.59l7.78-7.78 2.81-2.81c.8-.78.8-2.07 0-2.86zM5.41 20L4 18.59l7.72-7.72 1.47 1.35L5.41 20z\"/>\n",
              "  </svg>\n",
              "      </button>\n",
              "      \n",
              "  <style>\n",
              "    .colab-df-container {\n",
              "      display:flex;\n",
              "      flex-wrap:wrap;\n",
              "      gap: 12px;\n",
              "    }\n",
              "\n",
              "    .colab-df-convert {\n",
              "      background-color: #E8F0FE;\n",
              "      border: none;\n",
              "      border-radius: 50%;\n",
              "      cursor: pointer;\n",
              "      display: none;\n",
              "      fill: #1967D2;\n",
              "      height: 32px;\n",
              "      padding: 0 0 0 0;\n",
              "      width: 32px;\n",
              "    }\n",
              "\n",
              "    .colab-df-convert:hover {\n",
              "      background-color: #E2EBFA;\n",
              "      box-shadow: 0px 1px 2px rgba(60, 64, 67, 0.3), 0px 1px 3px 1px rgba(60, 64, 67, 0.15);\n",
              "      fill: #174EA6;\n",
              "    }\n",
              "\n",
              "    [theme=dark] .colab-df-convert {\n",
              "      background-color: #3B4455;\n",
              "      fill: #D2E3FC;\n",
              "    }\n",
              "\n",
              "    [theme=dark] .colab-df-convert:hover {\n",
              "      background-color: #434B5C;\n",
              "      box-shadow: 0px 1px 3px 1px rgba(0, 0, 0, 0.15);\n",
              "      filter: drop-shadow(0px 1px 2px rgba(0, 0, 0, 0.3));\n",
              "      fill: #FFFFFF;\n",
              "    }\n",
              "  </style>\n",
              "\n",
              "      <script>\n",
              "        const buttonEl =\n",
              "          document.querySelector('#df-c6634ed2-ca59-49b2-babd-87b0a933ff7f button.colab-df-convert');\n",
              "        buttonEl.style.display =\n",
              "          google.colab.kernel.accessAllowed ? 'block' : 'none';\n",
              "\n",
              "        async function convertToInteractive(key) {\n",
              "          const element = document.querySelector('#df-c6634ed2-ca59-49b2-babd-87b0a933ff7f');\n",
              "          const dataTable =\n",
              "            await google.colab.kernel.invokeFunction('convertToInteractive',\n",
              "                                                     [key], {});\n",
              "          if (!dataTable) return;\n",
              "\n",
              "          const docLinkHtml = 'Like what you see? Visit the ' +\n",
              "            '<a target=\"_blank\" href=https://colab.research.google.com/notebooks/data_table.ipynb>data table notebook</a>'\n",
              "            + ' to learn more about interactive tables.';\n",
              "          element.innerHTML = '';\n",
              "          dataTable['output_type'] = 'display_data';\n",
              "          await google.colab.output.renderOutput(dataTable, element);\n",
              "          const docLink = document.createElement('div');\n",
              "          docLink.innerHTML = docLinkHtml;\n",
              "          element.appendChild(docLink);\n",
              "        }\n",
              "      </script>\n",
              "    </div>\n",
              "  </div>\n",
              "  "
            ]
          },
          "metadata": {},
          "execution_count": 60
        }
      ]
    },
    {
      "cell_type": "markdown",
      "source": [
        "### STEP 1: Get The Deterministic Demand\n"
      ],
      "metadata": {
        "id": "L8Y-YZDfHCSK"
      }
    },
    {
      "cell_type": "code",
      "source": [
        "fig, ax = plt.subplots(figsize=(12, 8))\n",
        "\n",
        "grouped_data = dfDemands.groupby('Region')\n",
        "\n",
        "# Create a plot for each region\n",
        "for name, group in grouped_data:\n",
        "    plt.plot(group['Year'], group['Demand'], label=name, marker='o')\n",
        "\n",
        "# Add labels and a legend\n",
        "plt.xlabel('Year')\n",
        "plt.ylabel('Demand')\n",
        "plt.title('Regional Demand by Year')\n",
        "ax.title.set_fontsize(18)\n",
        "ax.title.set_fontstyle('italic')\n",
        "plt.legend()\n",
        "\n",
        "# Add the full labels in the x-axis\n",
        "ax.tick_params(axis='x', labelsize=12, length=6, width=2)\n",
        "ax.set_xticks(group['Year'])\n",
        "\n",
        "# Delete the gridline\n",
        "ax.grid(linewidth=0)\n",
        "\n",
        "# Show the plot\n",
        "plt.show()"
      ],
      "metadata": {
        "colab": {
          "base_uri": "https://localhost:8080/",
          "height": 525
        },
        "id": "RYtkMDaw3WEV",
        "outputId": "9305bbd7-fd3d-4700-d027-5d95b8b21cd6"
      },
      "execution_count": 11,
      "outputs": [
        {
          "output_type": "display_data",
          "data": {
            "text/plain": [
              "<Figure size 864x576 with 1 Axes>"
            ],
            "image/png": "[encoded data removed]"
          },
          "metadata": {}
        }
      ]
    },
    {
      "cell_type": "markdown",
      "source": [
        "**COMMENTS**\\\n",
        "Demands in all regions grows continously. Use the 10-year CAGR to estimate the demands in the next three years."
      ],
      "metadata": {
        "id": "OLn1etd9Ce3i"
      }
    },
    {
      "cell_type": "code",
      "source": [
        "# Calculate CAGR for each region\n",
        "regions = dfDemands['Region'].unique()\n",
        "cagrs = {}\n",
        "for region in regions:\n",
        "    df = dfDemands[dfDemands['Region']==region].reset_index(drop=True)\n",
        "    start_val = df.loc[0, 'Demand']\n",
        "    end_val = df.loc[len(df)-1, 'Demand']\n",
        "    num_years = len(df)\n",
        "    cagr = (end_val/start_val)**(1/num_years) - 1\n",
        "    cagrs[region] = cagr\n",
        "\n",
        "# Print the CAGR for each region\n",
        "for region, cagr in cagrs.items():\n",
        "    print(f\"{region}: {cagr*100:.2f}%\")\n",
        "\n",
        "# Predict demand for the next three years and save results to a new DataFrame\n",
        "future_years = [2023, 2024, 2025]\n",
        "predictions = []\n",
        "for region in regions:\n",
        "    df = dfDemands[dfDemands['Region']==region].reset_index(drop=True)\n",
        "    last_val = df.loc[len(df)-1, 'Demand']\n",
        "    cagr = cagrs[region]\n",
        "    for year in future_years:\n",
        "        demand = last_val * (1 + cagr)**(year - df.loc[len(df)-1, 'Year'])\n",
        "        predictions.append([year, region, demand])\n",
        "predictions_df = pd.DataFrame(predictions, columns=['Year', 'Region', 'Demand'])\n",
        "predictions_df"
      ],
      "metadata": {
        "colab": {
          "base_uri": "https://localhost:8080/",
          "height": 833
        },
        "id": "pXaEg1FrFpKs",
        "outputId": "0fc56b58-94a3-42fa-8d9b-2c211160bec8"
      },
      "execution_count": 12,
      "outputs": [
        {
          "output_type": "stream",
          "name": "stdout",
          "text": [
            "Downtown Toronto: 4.48%\n",
            "East York: 4.49%\n",
            "Etobicoke: 4.54%\n",
            "Mississauga East: 4.48%\n",
            "North Toronto: 4.43%\n",
            "North York: 4.56%\n",
            "Scarborough East: 4.44%\n"
          ]
        },
        {
          "output_type": "execute_result",
          "data": {
            "text/plain": [
              "    Year            Region         Demand\n",
              "0   2023  Downtown Toronto  404356.671308\n",
              "1   2024  Downtown Toronto  422488.501721\n",
              "2   2025  Downtown Toronto  441433.384810\n",
              "3   2023         East York  280112.632011\n",
              "4   2024         East York  292698.444469\n",
              "5   2025         East York  305849.753292\n",
              "6   2023         Etobicoke  465576.693250\n",
              "7   2024         Etobicoke  486701.268605\n",
              "8   2025         Etobicoke  508784.327687\n",
              "9   2023  Mississauga East  413483.385560\n",
              "10  2024  Mississauga East  431991.748029\n",
              "11  2025  Mississauga East  451328.582677\n",
              "12  2023     North Toronto  424142.335808\n",
              "13  2024     North Toronto  442933.908390\n",
              "14  2025     North Toronto  462558.039220\n",
              "15  2023        North York  516921.469214\n",
              "16  2024        North York  540484.166895\n",
              "17  2025        North York  565120.916933\n",
              "18  2023  Scarborough East  453092.705610\n",
              "19  2024  Scarborough East  473194.343318\n",
              "20  2025  Scarborough East  494187.798160"
            ],
            "text/html": [
              "\n",
              "  <div id=\"df-eaaeb9bc-cd6f-45ff-898c-6deb67090d90\">\n",
              "    <div class=\"colab-df-container\">\n",
              "      <div>\n",
              "<style scoped>\n",
              "    .dataframe tbody tr th:only-of-type {\n",
              "        vertical-align: middle;\n",
              "    }\n",
              "\n",
              "    .dataframe tbody tr th {\n",
              "        vertical-align: top;\n",
              "    }\n",
              "\n",
              "    .dataframe thead th {\n",
              "        text-align: right;\n",
              "    }\n",
              "</style>\n",
              "<table border=\"1\" class=\"dataframe\">\n",
              "  <thead>\n",
              "    <tr style=\"text-align: right;\">\n",
              "      <th></th>\n",
              "      <th>Year</th>\n",
              "      <th>Region</th>\n",
              "      <th>Demand</th>\n",
              "    </tr>\n",
              "  </thead>\n",
              "  <tbody>\n",
              "    <tr>\n",
              "      <th>0</th>\n",
              "      <td>2023</td>\n",
              "      <td>Downtown Toronto</td>\n",
              "      <td>404356.671308</td>\n",
              "    </tr>\n",
              "    <tr>\n",
              "      <th>1</th>\n",
              "      <td>2024</td>\n",
              "      <td>Downtown Toronto</td>\n",
              "      <td>422488.501721</td>\n",
              "    </tr>\n",
              "    <tr>\n",
              "      <th>2</th>\n",
              "      <td>2025</td>\n",
              "      <td>Downtown Toronto</td>\n",
              "      <td>441433.384810</td>\n",
              "    </tr>\n",
              "    <tr>\n",
              "      <th>3</th>\n",
              "      <td>2023</td>\n",
              "      <td>East York</td>\n",
              "      <td>280112.632011</td>\n",
              "    </tr>\n",
              "    <tr>\n",
              "      <th>4</th>\n",
              "      <td>2024</td>\n",
              "      <td>East York</td>\n",
              "      <td>292698.444469</td>\n",
              "    </tr>\n",
              "    <tr>\n",
              "      <th>5</th>\n",
              "      <td>2025</td>\n",
              "      <td>East York</td>\n",
              "      <td>305849.753292</td>\n",
              "    </tr>\n",
              "    <tr>\n",
              "      <th>6</th>\n",
              "      <td>2023</td>\n",
              "      <td>Etobicoke</td>\n",
              "      <td>465576.693250</td>\n",
              "    </tr>\n",
              "    <tr>\n",
              "      <th>7</th>\n",
              "      <td>2024</td>\n",
              "      <td>Etobicoke</td>\n",
              "      <td>486701.268605</td>\n",
              "    </tr>\n",
              "    <tr>\n",
              "      <th>8</th>\n",
              "      <td>2025</td>\n",
              "      <td>Etobicoke</td>\n",
              "      <td>508784.327687</td>\n",
              "    </tr>\n",
              "    <tr>\n",
              "      <th>9</th>\n",
              "      <td>2023</td>\n",
              "      <td>Mississauga East</td>\n",
              "      <td>413483.385560</td>\n",
              "    </tr>\n",
              "    <tr>\n",
              "      <th>10</th>\n",
              "      <td>2024</td>\n",
              "      <td>Mississauga East</td>\n",
              "      <td>431991.748029</td>\n",
              "    </tr>\n",
              "    <tr>\n",
              "      <th>11</th>\n",
              "      <td>2025</td>\n",
              "      <td>Mississauga East</td>\n",
              "      <td>451328.582677</td>\n",
              "    </tr>\n",
              "    <tr>\n",
              "      <th>12</th>\n",
              "      <td>2023</td>\n",
              "      <td>North Toronto</td>\n",
              "      <td>424142.335808</td>\n",
              "    </tr>\n",
              "    <tr>\n",
              "      <th>13</th>\n",
              "      <td>2024</td>\n",
              "      <td>North Toronto</td>\n",
              "      <td>442933.908390</td>\n",
              "    </tr>\n",
              "    <tr>\n",
              "      <th>14</th>\n",
              "      <td>2025</td>\n",
              "      <td>North Toronto</td>\n",
              "      <td>462558.039220</td>\n",
              "    </tr>\n",
              "    <tr>\n",
              "      <th>15</th>\n",
              "      <td>2023</td>\n",
              "      <td>North York</td>\n",
              "      <td>516921.469214</td>\n",
              "    </tr>\n",
              "    <tr>\n",
              "      <th>16</th>\n",
              "      <td>2024</td>\n",
              "      <td>North York</td>\n",
              "      <td>540484.166895</td>\n",
              "    </tr>\n",
              "    <tr>\n",
              "      <th>17</th>\n",
              "      <td>2025</td>\n",
              "      <td>North York</td>\n",
              "      <td>565120.916933</td>\n",
              "    </tr>\n",
              "    <tr>\n",
              "      <th>18</th>\n",
              "      <td>2023</td>\n",
              "      <td>Scarborough East</td>\n",
              "      <td>453092.705610</td>\n",
              "    </tr>\n",
              "    <tr>\n",
              "      <th>19</th>\n",
              "      <td>2024</td>\n",
              "      <td>Scarborough East</td>\n",
              "      <td>473194.343318</td>\n",
              "    </tr>\n",
              "    <tr>\n",
              "      <th>20</th>\n",
              "      <td>2025</td>\n",
              "      <td>Scarborough East</td>\n",
              "      <td>494187.798160</td>\n",
              "    </tr>\n",
              "  </tbody>\n",
              "</table>\n",
              "</div>\n",
              "      <button class=\"colab-df-convert\" onclick=\"convertToInteractive('df-eaaeb9bc-cd6f-45ff-898c-6deb67090d90')\"\n",
              "              title=\"Convert this dataframe to an interactive table.\"\n",
              "              style=\"display:none;\">\n",
              "        \n",
              "  <svg xmlns=\"http://www.w3.org/2000/svg\" height=\"24px\"viewBox=\"0 0 24 24\"\n",
              "       width=\"24px\">\n",
              "    <path d=\"M0 0h24v24H0V0z\" fill=\"none\"/>\n",
              "    <path d=\"M18.56 5.44l.94 2.06.94-2.06 2.06-.94-2.06-.94-.94-2.06-.94 2.06-2.06.94zm-11 1L8.5 8.5l.94-2.06 2.06-.94-2.06-.94L8.5 2.5l-.94 2.06-2.06.94zm10 10l.94 2.06.94-2.06 2.06-.94-2.06-.94-.94-2.06-.94 2.06-2.06.94z\"/><path d=\"M17.41 7.96l-1.37-1.37c-.4-.4-.92-.59-1.43-.59-.52 0-1.04.2-1.43.59L10.3 9.45l-7.72 7.72c-.78.78-.78 2.05 0 2.83L4 21.41c.39.39.9.59 1.41.59.51 0 1.02-.2 1.41-.59l7.78-7.78 2.81-2.81c.8-.78.8-2.07 0-2.86zM5.41 20L4 18.59l7.72-7.72 1.47 1.35L5.41 20z\"/>\n",
              "  </svg>\n",
              "      </button>\n",
              "      \n",
              "  <style>\n",
              "    .colab-df-container {\n",
              "      display:flex;\n",
              "      flex-wrap:wrap;\n",
              "      gap: 12px;\n",
              "    }\n",
              "\n",
              "    .colab-df-convert {\n",
              "      background-color: #E8F0FE;\n",
              "      border: none;\n",
              "      border-radius: 50%;\n",
              "      cursor: pointer;\n",
              "      display: none;\n",
              "      fill: #1967D2;\n",
              "      height: 32px;\n",
              "      padding: 0 0 0 0;\n",
              "      width: 32px;\n",
              "    }\n",
              "\n",
              "    .colab-df-convert:hover {\n",
              "      background-color: #E2EBFA;\n",
              "      box-shadow: 0px 1px 2px rgba(60, 64, 67, 0.3), 0px 1px 3px 1px rgba(60, 64, 67, 0.15);\n",
              "      fill: #174EA6;\n",
              "    }\n",
              "\n",
              "    [theme=dark] .colab-df-convert {\n",
              "      background-color: #3B4455;\n",
              "      fill: #D2E3FC;\n",
              "    }\n",
              "\n",
              "    [theme=dark] .colab-df-convert:hover {\n",
              "      background-color: #434B5C;\n",
              "      box-shadow: 0px 1px 3px 1px rgba(0, 0, 0, 0.15);\n",
              "      filter: drop-shadow(0px 1px 2px rgba(0, 0, 0, 0.3));\n",
              "      fill: #FFFFFF;\n",
              "    }\n",
              "  </style>\n",
              "\n",
              "      <script>\n",
              "        const buttonEl =\n",
              "          document.querySelector('#df-eaaeb9bc-cd6f-45ff-898c-6deb67090d90 button.colab-df-convert');\n",
              "        buttonEl.style.display =\n",
              "          google.colab.kernel.accessAllowed ? 'block' : 'none';\n",
              "\n",
              "        async function convertToInteractive(key) {\n",
              "          const element = document.querySelector('#df-eaaeb9bc-cd6f-45ff-898c-6deb67090d90');\n",
              "          const dataTable =\n",
              "            await google.colab.kernel.invokeFunction('convertToInteractive',\n",
              "                                                     [key], {});\n",
              "          if (!dataTable) return;\n",
              "\n",
              "          const docLinkHtml = 'Like what you see? Visit the ' +\n",
              "            '<a target=\"_blank\" href=https://colab.research.google.com/notebooks/data_table.ipynb>data table notebook</a>'\n",
              "            + ' to learn more about interactive tables.';\n",
              "          element.innerHTML = '';\n",
              "          dataTable['output_type'] = 'display_data';\n",
              "          await google.colab.output.renderOutput(dataTable, element);\n",
              "          const docLink = document.createElement('div');\n",
              "          docLink.innerHTML = docLinkHtml;\n",
              "          element.appendChild(docLink);\n",
              "        }\n",
              "      </script>\n",
              "    </div>\n",
              "  </div>\n",
              "  "
            ]
          },
          "metadata": {},
          "execution_count": 12
        }
      ]
    },
    {
      "cell_type": "markdown",
      "source": [
        "### STEP 2: Model With Deterministic Demand In One Period"
      ],
      "metadata": {
        "id": "Xqisw7d70Q36"
      }
    },
    {
      "cell_type": "markdown",
      "source": [
        "SETS"
      ],
      "metadata": {
        "id": "IyzUFvt3xKRD"
      }
    },
    {
      "cell_type": "code",
      "source": [
        "# Centers\n",
        "centers = list(dfCenters['Center'])\n",
        "numcenters = len(centers)\n",
        "\n",
        "# Region\n",
        "region = list(dfDemands['Region'].unique())\n",
        "numeregion = len(region)\n",
        "\n",
        "print(centers, region)"
      ],
      "metadata": {
        "colab": {
          "base_uri": "https://localhost:8080/"
        },
        "id": "c_s7cyuq0Zec",
        "outputId": "d008177f-9882-46fa-89f0-6937a3c78a0f"
      },
      "execution_count": 186,
      "outputs": [
        {
          "output_type": "stream",
          "name": "stdout",
          "text": [
            "['Center A', 'Center B', 'Center C', 'Center D', 'Center E', 'Center F'] ['Downtown Toronto', 'East York', 'Etobicoke', 'Mississauga East', 'North Toronto', 'North York', 'Scarborough East']\n"
          ]
        }
      ]
    },
    {
      "cell_type": "code",
      "source": [
        "# Maximum working hours per day\n",
        "MaxWorkHour = 6\n",
        "\n",
        "# Maximum working days per year\n",
        "MaxWorkDay = 250\n",
        "\n",
        "# Average cost per distance\n",
        "DistanceCost = 0.25\n",
        "\n",
        "# Hourly Wage in 2023\n",
        "Wage2023 = 37.85\n",
        "\n",
        "# Governemnt Reimbursement\n",
        "Reimbursement = 42\n",
        "\n",
        "# Open Centers\n",
        "OpenCenters = centers[:4]"
      ],
      "metadata": {
        "id": "qSKh9Cf-09v7"
      },
      "execution_count": 187,
      "outputs": []
    },
    {
      "cell_type": "markdown",
      "source": [
        "PARAMETERS"
      ],
      "metadata": {
        "id": "Rk-71c_LxL_0"
      }
    },
    {
      "cell_type": "code",
      "source": [
        "# Parameters in year 2023\n",
        "predictions_df_2023 = predictions_df[predictions_df['Year']==2023]\n",
        "\n",
        "# Demand in each region (dictionary)\n",
        "regiondemand = {}\n",
        "for j in region:    \n",
        "    regiondemand[j] = float(predictions_df_2023[predictions_df_2023['Region']==j][\"Demand\"])\n",
        "\n",
        "# Center capacities (dictionary)\n",
        "centercapacity = {}\n",
        "for i in centers:\n",
        "    centercapacity[i] = int(dfCenters[dfCenters['Center']==i]['Maximum capacity'])\n",
        "\n",
        "# Center opening cost    \n",
        "openingcost = {}\n",
        "for i in centers:\n",
        "    openingcost[i] = int(dfCenters[dfCenters['Center']==i]['Opening Costs'])\n",
        "\n",
        "# Operation cost\n",
        "operatingcost = {}\n",
        "for i in centers:\n",
        "    operatingcost[i] = int(dfCenters[dfCenters['Center']==i]['Operating Costs'])\n",
        "\n",
        "# Initaial Workers\n",
        "initialworker = {}\n",
        "for i in centers:\n",
        "    initialworker[i] = int(dfCenters[dfCenters['Center']==i]['Num MPs'])\n",
        "\n",
        "# Center-Region average distance\n",
        "CRdistance = {}\n",
        "for i in centers:\n",
        "    for j in region:\n",
        "        CRdistance[(i,j)] = float(dfDistances[(dfDistances[\"Center\"] == i)&(dfDistances[\"Region\"] == j)][\"Distance\"])"
      ],
      "metadata": {
        "id": "sB0QwIyjMkm8"
      },
      "execution_count": 188,
      "outputs": []
    },
    {
      "cell_type": "markdown",
      "source": [
        "VARIABLE"
      ],
      "metadata": {
        "id": "-Gw9_77rxZg7"
      }
    },
    {
      "cell_type": "code",
      "source": [
        "# Variables: if a center is opened\n",
        "yvar = pulp.LpVariable.dict(\"y\", centers, cat=pulp.LpBinary)\n",
        "\n",
        "# Variables: amount of demand from each zone allocated to depot, per scenario\n",
        "xvar = pulp.LpVariable.dict(\"x\", (centers, region), lowBound=0.0, cat=pulp.LpContinuous)\n",
        "\n",
        "# Variables: number of initial workers allocated to each center\n",
        "wvar = pulp.LpVariable.dict(\"w\", centers, lowBound=0, cat=pulp.LpInteger)\n"
      ],
      "metadata": {
        "id": "awyTN3sxxTaR"
      },
      "execution_count": 189,
      "outputs": []
    },
    {
      "cell_type": "markdown",
      "source": [
        "MODEL INITIALIZATION"
      ],
      "metadata": {
        "id": "ACpVxglkxu6n"
      }
    },
    {
      "cell_type": "code",
      "source": [
        "# Initialize model and objective sense\n",
        "SimpleModel = pulp.LpProblem(name=\"SimpleModel\", sense=pulp.LpMinimize)"
      ],
      "metadata": {
        "id": "65k_nLeIxr0R"
      },
      "execution_count": 196,
      "outputs": []
    },
    {
      "cell_type": "markdown",
      "source": [
        "CONSTRAINTS"
      ],
      "metadata": {
        "id": "IkNu8V26x97U"
      }
    },
    {
      "cell_type": "code",
      "source": [
        "# Contraint 1: hours of services provided by each center to each region could not exceed the demand in each region\n",
        "for j in region:\n",
        "    SimpleModel += pulp.lpSum([xvar[(i,j)]] for i in centers) <= regiondemand[j]\n",
        "\n",
        "# Constraint 2: hours of services provided by each center to each region could not exceed the capacity of each center\n",
        "for i in centers:\n",
        "    SimpleModel += pulp.lpSum([xvar[(i,j)] for j in region]) <= centercapacity[i]*yvar[i]\n",
        "\n",
        "# Constraint 3: hours of services provided by each center to each region could not exceed the total working hours of workers in each center\n",
        "for i in centers:\n",
        "    SimpleModel += pulp.lpSum([xvar[i,j] for j in region]) <= MaxWorkHour * MaxWorkDay * wvar[i]   \n",
        "\n",
        "# Constraint 4: number of initial workers should be equal to 560\n",
        "SimpleModel += pulp.lpSum([wvar[i] for i in centers]) == 560    \n",
        "\n",
        "# Constraint 5: centers A, B, C, D must be open\n",
        "SimpleModel += pulp.lpSum([yvar[i] for i in OpenCenters]) == 4                  "
      ],
      "metadata": {
        "id": "LDuekXRbysVj"
      },
      "execution_count": 197,
      "outputs": []
    },
    {
      "cell_type": "markdown",
      "source": [
        "OBJECTIVE FUNCTION"
      ],
      "metadata": {
        "id": "xO9QtxFy4vB7"
      }
    },
    {
      "cell_type": "code",
      "source": [
        "# Center Opening Costs\n",
        "obj = pulp.lpSum([openingcost[i] * yvar[i] for i in centers])\n",
        "\n",
        "# Center Operating Costs\n",
        "obj += pulp.lpSum([operatingcost[i] * yvar[i] for i in centers])\n",
        "\n",
        "# Service Flow Costs\n",
        "obj += pulp.lpSum([(CRdistance[(i,j)]*DistanceCost + Wage2023 - Reimbursement) * xvar[(i,j)] for i in centers for j in region])\n",
        "\n",
        "# add objective to model\n",
        "SimpleModel += obj"
      ],
      "metadata": {
        "id": "-Y1AqxNh8J02"
      },
      "execution_count": 198,
      "outputs": []
    },
    {
      "cell_type": "markdown",
      "source": [
        "SOLUTION PROCESS"
      ],
      "metadata": {
        "id": "WsIst9x7BxEW"
      }
    },
    {
      "cell_type": "code",
      "source": [
        "# Write LP to file (optional, but often good to inspect model and find errors)\n",
        "SimpleModel.writeLP(\"SimpleModel.lp\")\n",
        "\n",
        "# Solve model\n",
        "SimpleModel.solve()\n",
        "print(\"Status:\", pulp.LpStatus[SimpleModel.status])"
      ],
      "metadata": {
        "colab": {
          "base_uri": "https://localhost:8080/"
        },
        "id": "da3IKLQEBZqA",
        "outputId": "7ef72e34-459a-4afa-dc0f-dd34e6e3101d"
      },
      "execution_count": 199,
      "outputs": [
        {
          "output_type": "stream",
          "name": "stdout",
          "text": [
            "Status: Optimal\n"
          ]
        }
      ]
    },
    {
      "cell_type": "code",
      "source": [
        "# Total cost\n",
        "totalCost = pulp.value(SimpleModel.objective)\n",
        "print(\"Total cost: \" + str(totalCost))"
      ],
      "metadata": {
        "colab": {
          "base_uri": "https://localhost:8080/"
        },
        "id": "xwHOae2bCEDp",
        "outputId": "f95ac869-6691-4c3e-b144-629e10d2ccb7"
      },
      "execution_count": 200,
      "outputs": [
        {
          "output_type": "stream",
          "name": "stdout",
          "text": [
            "Total cost: -2375999.9999999986\n"
          ]
        }
      ]
    },
    {
      "cell_type": "code",
      "source": [
        "# Print solution (you can add to the dataframe if needed)\n",
        "for i in centers:\n",
        "    if yvar[i].varValue >= 1.0:\n",
        "        print(\"Depot \" + str(i) + \" is opened\") \n",
        "        print(str(wvar[i].varValue) + \"MPs work here\")                           \n",
        "        for j in region:\n",
        "            if xvar[(i,j)].varValue > 0.0:\n",
        "                print(\"\\t\\tServes zone \" + str(j) + \" - with capacity \" + str(xvar[(i,j)].varValue))"
      ],
      "metadata": {
        "colab": {
          "base_uri": "https://localhost:8080/"
        },
        "id": "Jhj1wp3aCRAY",
        "outputId": "fb8be082-10e7-41cf-d3da-78ee0566a9f5"
      },
      "execution_count": 201,
      "outputs": [
        {
          "output_type": "stream",
          "name": "stdout",
          "text": [
            "Depot Center A is opened\n",
            "0.0MPs work here\n",
            "Depot Center B is opened\n",
            "285.0MPs work here\n",
            "\t\tServes zone Scarborough East - with capacity 427500.0\n",
            "Depot Center C is opened\n",
            "0.0MPs work here\n",
            "Depot Center D is opened\n",
            "275.0MPs work here\n",
            "\t\tServes zone Mississauga East - with capacity 412500.0\n"
          ]
        }
      ]
    },
    {
      "cell_type": "markdown",
      "source": [
        "### Step 3: Model With No Hiring Across All Three Periods"
      ],
      "metadata": {
        "id": "1GkNlKBEcis1"
      }
    },
    {
      "cell_type": "markdown",
      "source": [
        "SETS"
      ],
      "metadata": {
        "id": "PbuqBUZNcis1"
      }
    },
    {
      "cell_type": "code",
      "source": [
        "# Centers\n",
        "centers = list(dfCenters['Center'])\n",
        "numcenters = len(centers)\n",
        "\n",
        "# Region\n",
        "region = list(dfDemands['Region'].unique())\n",
        "numeregion = len(region)\n",
        "\n",
        "# Year\n",
        "years = list(predictions_df['Year'].unique())\n",
        "\n",
        "print(centers)\n",
        "print(region)\n",
        "print(years)"
      ],
      "metadata": {
        "colab": {
          "base_uri": "https://localhost:8080/"
        },
        "outputId": "61f0d516-8341-4b60-f9c9-0b74c5c6710b",
        "id": "hLj-0dXhcis1"
      },
      "execution_count": 182,
      "outputs": [
        {
          "output_type": "stream",
          "name": "stdout",
          "text": [
            "['Center A', 'Center B', 'Center C', 'Center D', 'Center E', 'Center F']\n",
            "['Downtown Toronto', 'East York', 'Etobicoke', 'Mississauga East', 'North Toronto', 'North York', 'Scarborough East']\n",
            "[2023, 2024, 2025]\n"
          ]
        }
      ]
    },
    {
      "cell_type": "code",
      "source": [
        "# Maximum working hours per day\n",
        "MaxWorkHour = 6\n",
        "\n",
        "# Maximum working days per year\n",
        "MaxWorkDay = 250\n",
        "\n",
        "# Average cost per distance\n",
        "DistanceCost = 0.25\n",
        "\n",
        "# Hourly Wage in 2023\n",
        "Wage2023 = 37.85\n",
        "Wage = [Wage2023, Wage2023*(1+0.025), Wage2023*(1+0.025)**2]\n",
        "\n",
        "# Governemnt Reimbursement\n",
        "Reimbursement = 42\n",
        "\n",
        "# Open Centers\n",
        "OpenCenters = centers[:4]"
      ],
      "metadata": {
        "id": "0U6R_UUgcis2"
      },
      "execution_count": 183,
      "outputs": []
    },
    {
      "cell_type": "markdown",
      "source": [
        "PARAMETERS"
      ],
      "metadata": {
        "id": "UWpTE2EJcis2"
      }
    },
    {
      "cell_type": "code",
      "source": [
        "# Demand in each region (dictionary)\n",
        "regiondemand = {}\n",
        "for t in year:\n",
        "    for j in region:    \n",
        "        regiondemand[t,j] = float(predictions_df[(predictions_df['Year'] == t)&(predictions_df['Region'] == j)][\"Demand\"])\n",
        "\n",
        "# Center capacities (dictionary)\n",
        "centercapacity = {}\n",
        "for i in centers:\n",
        "    centercapacity[i] = int(dfCenters[dfCenters['Center']==i]['Maximum capacity'])\n",
        "\n",
        "# Center opening cost    \n",
        "openingcost = {}\n",
        "for i in centers:\n",
        "    openingcost[i] = int(dfCenters[dfCenters['Center']==i]['Opening Costs'])\n",
        "\n",
        "# Operating cost\n",
        "operatingcost = {}\n",
        "for i in centers:\n",
        "    operatingcost[i] = int(dfCenters[dfCenters['Center']==i]['Operating Costs'])\n",
        "\n",
        "# Center-Region average distance\n",
        "CRdistance = {}\n",
        "for i in centers:\n",
        "    for j in region:\n",
        "        CRdistance[(i,j)] = float(dfDistances[(dfDistances[\"Center\"] == i)&(dfDistances[\"Region\"] == j)][\"Distance\"])"
      ],
      "metadata": {
        "id": "5Tjcygq-cis2"
      },
      "execution_count": 219,
      "outputs": []
    },
    {
      "cell_type": "markdown",
      "source": [
        "VARIABLE"
      ],
      "metadata": {
        "id": "vjYuxbGCcis2"
      }
    },
    {
      "cell_type": "code",
      "source": [
        "# Variables: if a center is opened\n",
        "yvar = pulp.LpVariable.dict(\"y\", (centers, years), cat=pulp.LpBinary)\n",
        "\n",
        "# Variables: amount of demand from center to region\n",
        "xvar = pulp.LpVariable.dict(\"x\", (centers, region, years), lowBound=0.0, cat=pulp.LpContinuous)\n",
        "\n",
        "# Variables: number of initial workers allocated to each center\n",
        "wvar = pulp.LpVariable.dict(\"w\", (centers, years), lowBound=0, cat=pulp.LpInteger)\n"
      ],
      "metadata": {
        "id": "-mB9okAzcis2"
      },
      "execution_count": 301,
      "outputs": []
    },
    {
      "cell_type": "markdown",
      "source": [
        "MODEL INITIALIZATION"
      ],
      "metadata": {
        "id": "nWJd7L1acis2"
      }
    },
    {
      "cell_type": "code",
      "source": [
        "# Initialize model and objective sense\n",
        "SimpleModel = pulp.LpProblem(name=\"SimpleModel\", sense=pulp.LpMinimize)"
      ],
      "metadata": {
        "id": "mrmLXCAYcis2"
      },
      "execution_count": 417,
      "outputs": []
    },
    {
      "cell_type": "markdown",
      "source": [
        "CONSTRAINTS"
      ],
      "metadata": {
        "id": "_FGhVPYicis3"
      }
    },
    {
      "cell_type": "code",
      "source": [
        "# Contraint 1: hours of services provided by each center to each region could not exceed the demand in each region\n",
        "for t in years:\n",
        "    for j in region:\n",
        "        SimpleModel += pulp.lpSum([xvar[(i,j,t)]] for i in centers) <= regiondemand[(t,j)]\n",
        "\n",
        "# Constraint 2: hours of services provided by each center to each region could not exceed the capacity of each center\n",
        "for t in years:\n",
        "    for i in centers:\n",
        "        SimpleModel += pulp.lpSum([xvar[(i,j,t)]] for j in region) <= centercapacity[i]*yvar[(i,t)]\n",
        "\n",
        "# Constraint 3: hours of services provided by each center to each region could not exceed the total working hours of workers in each center\n",
        "for t in years:\n",
        "    for i in centers:\n",
        "        SimpleModel += pulp.lpSum([xvar[i,j,t]] for j in region) <= MaxWorkHour * MaxWorkDay * wvar[(i,t)]   \n",
        "\n",
        "# Constraint 4: number of initial workers should be equal to 560\n",
        "for t in [2023]:\n",
        "    SimpleModel += pulp.lpSum([wvar[(i,t)] for i in centers]) == 560    \n",
        "\n",
        "# Constraint 5: centers A, B, C, D must be open\n",
        "for t in years:\n",
        "    SimpleModel += pulp.lpSum([yvar[(i,t)] for i in OpenCenters]) == 4\n",
        "\n",
        "for t in [2024,2025]:\n",
        "    SimpleModel += ((wvar[(i,t)] for i in centers) == wvar[(i,t-1)])\n",
        "\n",
        "#Constraint 6: Once a center is open it cannot be closed\n",
        "for t in [2024,2025]:   \n",
        "    SimpleModel += ([yvar[(i,t)]  for i in centers]) >= yvar[(i,t-1)]\n",
        "    "
      ],
      "metadata": {
        "id": "0u7DM04wcis3"
      },
      "execution_count": 418,
      "outputs": []
    },
    {
      "cell_type": "markdown",
      "source": [
        "OBJECTIVE FUNCTION"
      ],
      "metadata": {
        "id": "Op-hO4mXcis3"
      }
    },
    {
      "cell_type": "code",
      "source": [
        "# Center Opening Costs\n",
        "for t in years:\n",
        "    obj = pulp.lpSum([openingcost[i] * yvar[i,t] for i in centers])\n",
        "\n",
        "# Center Operating Costs\n",
        "for t in years:\n",
        "    obj += pulp.lpSum([operatingcost[i] * yvar[i,t] for i in centers])\n",
        "\n",
        "# Service Flow Costs\n",
        "for t in years:\n",
        "    obj += pulp.lpSum([(CRdistance[(i,j)]*DistanceCost + Wage[t-2023] - Reimbursement) * xvar[(i,j,t)] for i in centers for j in region])\n",
        "\n",
        "# add objective to model\n",
        "SimpleModel += obj"
      ],
      "metadata": {
        "id": "BozpnLNRcis3"
      },
      "execution_count": 419,
      "outputs": []
    },
    {
      "cell_type": "markdown",
      "source": [
        "SOLUTION PROCESS"
      ],
      "metadata": {
        "id": "KHr5SmDfcis3"
      }
    },
    {
      "cell_type": "code",
      "source": [
        "# Write LP to file (optional, but often good to inspect model and find errors)\n",
        "SimpleModel.writeLP(\"SimpleModel.lp\")\n",
        "\n",
        "# Solve model\n",
        "SimpleModel.solve()\n",
        "print(\"Status:\", pulp.LpStatus[SimpleModel.status])"
      ],
      "metadata": {
        "colab": {
          "base_uri": "https://localhost:8080/"
        },
        "outputId": "5bbd713c-1749-4fec-ae03-a1f6710e31a3",
        "id": "S605a26Ocis3"
      },
      "execution_count": 420,
      "outputs": [
        {
          "output_type": "stream",
          "name": "stdout",
          "text": [
            "Status: Optimal\n"
          ]
        }
      ]
    },
    {
      "cell_type": "code",
      "source": [
        "# Total cost\n",
        "totalCost = pulp.value(SimpleModel.objective)\n",
        "print(\"Total cost: \" + str(totalCost))"
      ],
      "metadata": {
        "colab": {
          "base_uri": "https://localhost:8080/"
        },
        "outputId": "39994b84-ecf3-4fff-a00d-3cdbd95c2082",
        "id": "ZRrfJn_Wcis3"
      },
      "execution_count": 421,
      "outputs": [
        {
          "output_type": "stream",
          "name": "stdout",
          "text": [
            "Total cost: -2078170.1375624982\n"
          ]
        }
      ]
    },
    {
      "cell_type": "code",
      "source": [
        "# Print solution (you can add to the dataframe if needed)\n",
        "for t in years:\n",
        "    for i in centers:\n",
        "        if yvar[i,t].varValue >= 1.0:\n",
        "            print(\"Depot \" + str(i) + \" is opened\") \n",
        "            print(str(wvar[i,t].varValue) + \"MPs work here\")                           \n",
        "            for j in region:\n",
        "                if xvar[(i,j,t)].varValue > 0.0:\n",
        "                    print(\"\\t\\tServes zone \" + str(j) + \" - with capacity \" + str(xvar[(i,j,t)].varValue))"
      ],
      "metadata": {
        "colab": {
          "base_uri": "https://localhost:8080/"
        },
        "outputId": "a6551b5a-0081-43b7-a6af-d9723b2af089",
        "id": "uFGoK140cis3"
      },
      "execution_count": 422,
      "outputs": [
        {
          "output_type": "stream",
          "name": "stdout",
          "text": [
            "Depot Center A is opened\n",
            "0.0MPs work here\n",
            "Depot Center B is opened\n",
            "272.0MPs work here\n",
            "\t\tServes zone Scarborough East - with capacity 408000.0\n",
            "Depot Center C is opened\n",
            "0.0MPs work here\n",
            "Depot Center D is opened\n",
            "0.0MPs work here\n",
            "Depot Center F is opened\n",
            "288.0MPs work here\n",
            "\t\tServes zone Mississauga East - with capacity 413483.39\n",
            "Depot Center A is opened\n",
            "0.0MPs work here\n",
            "Depot Center B is opened\n",
            "0.0MPs work here\n",
            "Depot Center C is opened\n",
            "0.0MPs work here\n",
            "Depot Center D is opened\n",
            "0.0MPs work here\n",
            "Depot Center F is opened\n",
            "288.0MPs work here\n",
            "\t\tServes zone Mississauga East - with capacity 431991.75\n",
            "Depot Center A is opened\n",
            "0.0MPs work here\n",
            "Depot Center B is opened\n",
            "0.0MPs work here\n",
            "Depot Center C is opened\n",
            "0.0MPs work here\n",
            "Depot Center D is opened\n",
            "288.0MPs work here\n",
            "\t\tServes zone Mississauga East - with capacity 432000.0\n"
          ]
        }
      ]
    },
    {
      "cell_type": "markdown",
      "source": [
        "### Step 4: Model With Hiring Across All Three Periods"
      ],
      "metadata": {
        "id": "qNamYwbwe6Js"
      }
    },
    {
      "cell_type": "markdown",
      "source": [
        "SETS"
      ],
      "metadata": {
        "id": "SQg_cfLHfFTQ"
      }
    },
    {
      "cell_type": "code",
      "source": [
        "# Centers\n",
        "centers = list(dfCenters['Center'])\n",
        "numcenters = len(centers)\n",
        "\n",
        "# Region\n",
        "region = list(dfDemands['Region'].unique())\n",
        "numeregion = len(region)\n",
        "\n",
        "# Year\n",
        "years = list(predictions_df['Year'].unique())\n",
        "\n",
        "print(centers)\n",
        "print(region)\n",
        "print(years)"
      ],
      "metadata": {
        "colab": {
          "base_uri": "https://localhost:8080/"
        },
        "outputId": "991ff354-365b-41e8-e57f-5c2f4b274f35",
        "id": "zX4EnQ0cfFTQ"
      },
      "execution_count": 674,
      "outputs": [
        {
          "output_type": "stream",
          "name": "stdout",
          "text": [
            "['Center A', 'Center B', 'Center C', 'Center D', 'Center E', 'Center F']\n",
            "['Downtown Toronto', 'East York', 'Etobicoke', 'Mississauga East', 'North Toronto', 'North York', 'Scarborough East']\n",
            "[2023, 2024, 2025]\n"
          ]
        }
      ]
    },
    {
      "cell_type": "code",
      "source": [
        "# Maximum working hours per day\n",
        "MaxWorkHour = 6\n",
        "\n",
        "# Maximum working days per year\n",
        "MaxWorkDay = 250\n",
        "\n",
        "# Average cost per distance\n",
        "DistanceCost = 0.25\n",
        "\n",
        "# Hourly Wage in 2023\n",
        "Wage2023 = 37.85\n",
        "Wage = [Wage2023, Wage2023*(1+0.025), Wage2023*(1+0.025)**2]\n",
        "\n",
        "# Governemnt Reimbursement\n",
        "Reimbursement = 42\n",
        "\n",
        "# Open Centers\n",
        "OpenCenters = centers[:4]\n",
        "\n",
        "# Hiring Cost per Worker\n",
        "HiringCost = 15000"
      ],
      "metadata": {
        "id": "sNeNnTBzfFTQ"
      },
      "execution_count": 675,
      "outputs": []
    },
    {
      "cell_type": "markdown",
      "source": [
        "PARAMETERS"
      ],
      "metadata": {
        "id": "dOrRNpb5fFTQ"
      }
    },
    {
      "cell_type": "code",
      "source": [
        "# Demand in each region (dictionary)\n",
        "regiondemand = {}\n",
        "for t in year:\n",
        "    for j in region:    \n",
        "        regiondemand[t,j] = float(predictions_df[(predictions_df['Year'] == t)&(predictions_df['Region'] == j)][\"Demand\"])\n",
        "\n",
        "# Center capacities (dictionary)\n",
        "centercapacity = {}\n",
        "for i in centers:\n",
        "    centercapacity[i] = int(dfCenters[dfCenters['Center']==i]['Maximum capacity'])\n",
        "\n",
        "# Center opening cost    \n",
        "openingcost = {}\n",
        "for i in centers:\n",
        "    openingcost[i] = int(dfCenters[dfCenters['Center']==i]['Opening Costs'])\n",
        "\n",
        "# Operating cost\n",
        "operatingcost = {}\n",
        "for i in centers:\n",
        "    operatingcost[i] = int(dfCenters[dfCenters['Center']==i]['Operating Costs'])\n",
        "\n",
        "# Center-Region average distance\n",
        "CRdistance = {}\n",
        "for i in centers:\n",
        "    for j in region:\n",
        "        CRdistance[(i,j)] = float(dfDistances[(dfDistances[\"Center\"] == i)&(dfDistances[\"Region\"] == j)][\"Distance\"])"
      ],
      "metadata": {
        "id": "Mvf2wIr8fFTQ"
      },
      "execution_count": 676,
      "outputs": []
    },
    {
      "cell_type": "markdown",
      "source": [
        "VARIABLE"
      ],
      "metadata": {
        "id": "f3TYEYlSfFTR"
      }
    },
    {
      "cell_type": "code",
      "source": [
        "# Variables: if a center is opened\n",
        "yvar = pulp.LpVariable.dict(\"y\", (centers, years), cat=pulp.LpBinary)\n",
        "\n",
        "# Variables: amount of demand from center to region\n",
        "xvar = pulp.LpVariable.dict(\"x\", (centers, region, years), lowBound=0.0, cat=pulp.LpContinuous)\n",
        "\n",
        "# Variables: number of initial workers allocated to each center\n",
        "wvar = pulp.LpVariable.dict(\"w\", (centers, years), lowBound=0, cat=pulp.LpInteger)\n",
        "\n",
        "# Variables: \n",
        "hvar = pulp.LpVariable.dict(\"h\", (centers, years), lowBound=0, upBound=300, cat=pulp.LpInteger)\n"
      ],
      "metadata": {
        "id": "AVprtij3fFTR"
      },
      "execution_count": 677,
      "outputs": []
    },
    {
      "cell_type": "markdown",
      "source": [
        "MODEL INITIALIZATION"
      ],
      "metadata": {
        "id": "A5eqiaeUfFTR"
      }
    },
    {
      "cell_type": "code",
      "source": [
        "# Initialize model and objective sense\n",
        "SimpleModel = pulp.LpProblem(name=\"SimpleModel\", sense=pulp.LpMinimize)"
      ],
      "metadata": {
        "id": "q90qyzAFfFTR"
      },
      "execution_count": 678,
      "outputs": []
    },
    {
      "cell_type": "markdown",
      "source": [
        "CONSTRAINTS"
      ],
      "metadata": {
        "id": "8k8_9LG8fFTR"
      }
    },
    {
      "cell_type": "code",
      "source": [
        "# Contraint 1: hours of services provided by each center to each region could not exceed the demand in each region\n",
        "for t in years:\n",
        "    for j in region:\n",
        "        SimpleModel += pulp.lpSum([xvar[(i,j,t)]] for i in centers) == regiondemand[(t,j)]\n",
        "\n",
        "# Constraint 2: hours of services provided by each center to each region could not exceed the capacity of each center\n",
        "for t in years:\n",
        "    for i in centers:\n",
        "        SimpleModel += pulp.lpSum([xvar[(i,j,t)]] for j in region) <= centercapacity[i]*yvar[(i,t)]\n",
        "\n",
        "# Constraint 3: hours of services provided by each center to each region could not exceed the total working hours of workers in each center\n",
        "for t in years:\n",
        "    for i in centers:\n",
        "        SimpleModel += pulp.lpSum([xvar[i,j,t]] for j in region) <= MaxWorkHour * MaxWorkDay * (wvar[(i,t)] + hvar[(i,t)])\n",
        "\n",
        "# Constraint 4: number of initial workers should be equal to 560\n",
        "for t in [2023]:\n",
        "    SimpleModel += pulp.lpSum([wvar[(i,t)] for i in centers]) == 560    \n",
        "\n",
        "# Constraint 5: centers A, B, C, D must be open\n",
        "#for t in years:\n",
        "#    SimpleModel += pulp.lpSum([yvar[i,t] for i in OpenCenters]) == 4\n",
        "\n",
        "# Constranint 6: number of workers in the current year should be equal to the number of workers in the last year plus \n",
        "#                number of hiring in the current year\n",
        "for i in centers:\n",
        "    for t in [2024,2025]:\n",
        "        SimpleModel += ((wvar[(i,t)]) == wvar[(i,t-1)] + hvar[(i,t-1)])\n",
        "\n",
        "#Constraint 7: Once a center is open it cannot be closed\n",
        "#for i in centers:\n",
        "#    for t in [2024,2025]:   \n",
        "#        SimpleModel += (yvar[(i,t)]) >= yvar[(i,t-1)]\n",
        "    "
      ],
      "metadata": {
        "id": "-3ZjdKZafFTR"
      },
      "execution_count": 679,
      "outputs": []
    },
    {
      "cell_type": "markdown",
      "source": [
        "OBJECTIVE FUNCTION"
      ],
      "metadata": {
        "id": "BL4B_w2gfFTR"
      }
    },
    {
      "cell_type": "code",
      "source": [
        "# Center Opening Costs\n",
        "obj = pulp.lpSum([openingcost[i] * yvar[i,2023] for i in centers])\n",
        "\n",
        "# Center Operating Costs\n",
        "for t in years:\n",
        "    obj += pulp.lpSum([operatingcost[i] * yvar[i, t] for i in centers])\n",
        "\n",
        "# Service Flow Costs\n",
        "for t in years:\n",
        "    obj += pulp.lpSum([(CRdistance[(i,j)]*DistanceCost + Wage[t-2023] - Reimbursement) * xvar[(i,j,t)] for i in centers for j in region])\n",
        "\n",
        "# Hiring Costs\n",
        "for t in years:\n",
        "    obj += pulp.lpSum([HiringCost * hvar[i,t] for i in centers])\n",
        "\n",
        "# add objective to model\n",
        "SimpleModel += obj"
      ],
      "metadata": {
        "id": "PH2m4MgQfFTR"
      },
      "execution_count": 680,
      "outputs": []
    },
    {
      "cell_type": "markdown",
      "source": [
        "SOLUTION PROCESS"
      ],
      "metadata": {
        "id": "iA5rjnCNfFTR"
      }
    },
    {
      "cell_type": "code",
      "source": [
        "# Write LP to file (optional, but often good to inspect model and find errors)\n",
        "SimpleModel.writeLP(\"SimpleModel.lp\")\n",
        "\n",
        "# Solve model\n",
        "SimpleModel.solve()\n",
        "print(\"Status:\", pulp.LpStatus[SimpleModel.status])"
      ],
      "metadata": {
        "colab": {
          "base_uri": "https://localhost:8080/"
        },
        "outputId": "acc47c23-677e-4a3a-a750-dfef031bcf7c",
        "id": "-Omf3sfbfFTR"
      },
      "execution_count": 681,
      "outputs": [
        {
          "output_type": "stream",
          "name": "stdout",
          "text": [
            "Status: Optimal\n"
          ]
        }
      ]
    },
    {
      "cell_type": "code",
      "source": [
        "# Total cost\n",
        "totalCost = pulp.value(SimpleModel.objective)\n",
        "print(\"Total cost: \" + str(totalCost))"
      ],
      "metadata": {
        "colab": {
          "base_uri": "https://localhost:8080/"
        },
        "outputId": "8f67af29-9bbe-485a-b504-881325fd4fa6",
        "id": "xSwpT9qefFTR"
      },
      "execution_count": 682,
      "outputs": [
        {
          "output_type": "stream",
          "name": "stdout",
          "text": [
            "Total cost: 9815204.011466032\n"
          ]
        }
      ]
    },
    {
      "cell_type": "code",
      "source": [
        "# Print solution (you can add to the dataframe if needed)\n",
        "for t in years:\n",
        "    print(\"Year \" + str(t)) \n",
        "    for i in centers:\n",
        "        if yvar[i,t].varValue >= 1.0:\n",
        "            print(\"Depot \" + str(i) + \" is opened\") \n",
        "            print(str(wvar[i,t].varValue) + \"MPs work here\")  \n",
        "            print(\"Hiring\" + str(hvar[i,t].varValue))                      \n",
        "            for j in region:\n",
        "                if xvar[(i,j,t)].varValue > 0.0:\n",
        "                    print(\"\\t\\tServes zone \" + str(j) + \" - with capacity \" + str(xvar[(i,j,t)].varValue))"
      ],
      "metadata": {
        "colab": {
          "base_uri": "https://localhost:8080/"
        },
        "outputId": "a29802d7-9f69-40d0-ed02-51091384f4a9",
        "id": "E0dJoh0MfFTR"
      },
      "execution_count": 683,
      "outputs": [
        {
          "output_type": "stream",
          "name": "stdout",
          "text": [
            "Year 2023\n",
            "Depot Center A is opened\n",
            "232.0MPs work here\n",
            "Hiring300.0\n",
            "\t\tServes zone East York - with capacity 280112.63\n",
            "\t\tServes zone Etobicoke - with capacity 651.79154\n",
            "\t\tServes zone North York - with capacity 516921.47\n",
            "Depot Center B is opened\n",
            "2.0MPs work here\n",
            "Hiring300.0\n",
            "\t\tServes zone Scarborough East - with capacity 453000.0\n",
            "Depot Center D is opened\n",
            "0.0MPs work here\n",
            "Hiring275.0\n",
            "\t\tServes zone Mississauga East - with capacity 412500.0\n",
            "Depot Center E is opened\n",
            "326.0MPs work here\n",
            "Hiring300.0\n",
            "\t\tServes zone Downtown Toronto - with capacity 404356.67\n",
            "\t\tServes zone Etobicoke - with capacity 110500.99\n",
            "\t\tServes zone North Toronto - with capacity 424142.34\n",
            "Depot Center F is opened\n",
            "0.0MPs work here\n",
            "Hiring237.0\n",
            "\t\tServes zone Etobicoke - with capacity 354423.91\n",
            "\t\tServes zone Mississauga East - with capacity 983.38556\n",
            "\t\tServes zone Scarborough East - with capacity 92.70561\n",
            "Year 2024\n",
            "Depot Center A is opened\n",
            "532.0MPs work here\n",
            "Hiring24.0\n",
            "\t\tServes zone East York - with capacity 292698.44\n",
            "\t\tServes zone North York - with capacity 540484.17\n",
            "Depot Center B is opened\n",
            "302.0MPs work here\n",
            "Hiring27.0\n",
            "\t\tServes zone Scarborough East - with capacity 473194.34\n",
            "Depot Center D is opened\n",
            "275.0MPs work here\n",
            "Hiring0.0\n",
            "\t\tServes zone Mississauga East - with capacity 333615.43\n",
            "Depot Center E is opened\n",
            "626.0MPs work here\n",
            "Hiring104.0\n",
            "\t\tServes zone Downtown Toronto - with capacity 422488.5\n",
            "\t\tServes zone Etobicoke - with capacity 229577.59\n",
            "\t\tServes zone North Toronto - with capacity 442933.91\n",
            "Depot Center F is opened\n",
            "237.0MPs work here\n",
            "Hiring0.0\n",
            "\t\tServes zone Etobicoke - with capacity 257123.68\n",
            "\t\tServes zone Mississauga East - with capacity 98376.321\n",
            "Year 2025\n",
            "Depot Center A is opened\n",
            "556.0MPs work here\n",
            "Hiring25.0\n",
            "\t\tServes zone East York - with capacity 305849.75\n",
            "\t\tServes zone Etobicoke - with capacity 529.32977\n",
            "\t\tServes zone North York - with capacity 565120.92\n",
            "Depot Center B is opened\n",
            "329.0MPs work here\n",
            "Hiring1.0\n",
            "\t\tServes zone Etobicoke - with capacity 575.00462\n",
            "\t\tServes zone Scarborough East - with capacity 494187.8\n",
            "Depot Center D is opened\n",
            "275.0MPs work here\n",
            "Hiring0.0\n",
            "\t\tServes zone Mississauga East - with capacity 412500.0\n",
            "Depot Center E is opened\n",
            "730.0MPs work here\n",
            "Hiring0.0\n",
            "\t\tServes zone Downtown Toronto - with capacity 441433.38\n",
            "\t\tServes zone Etobicoke - with capacity 191008.58\n",
            "\t\tServes zone North Toronto - with capacity 462558.04\n",
            "Depot Center F is opened\n",
            "237.0MPs work here\n",
            "Hiring0.0\n",
            "\t\tServes zone Etobicoke - with capacity 316671.42\n",
            "\t\tServes zone Mississauga East - with capacity 38828.583\n"
          ]
        }
      ]
    },
    {
      "cell_type": "markdown",
      "source": [
        "### Step 5: Model With Hiring Across All Three Periods With Rejection"
      ],
      "metadata": {
        "id": "nCJRXnTR-Nl9"
      }
    },
    {
      "cell_type": "markdown",
      "source": [
        "SETS"
      ],
      "metadata": {
        "id": "PQTT7o9__CMG"
      }
    },
    {
      "cell_type": "code",
      "source": [
        "# Centers\n",
        "centers = list(dfCenters['Center'])\n",
        "numcenters = len(centers)\n",
        "\n",
        "# Region\n",
        "region = list(dfDemands['Region'].unique())\n",
        "numeregion = len(region)\n",
        "\n",
        "# Year\n",
        "years = list(predictions_df['Year'].unique())\n",
        "\n",
        "print(centers)\n",
        "print(region)\n",
        "print(years)"
      ],
      "metadata": {
        "colab": {
          "base_uri": "https://localhost:8080/"
        },
        "outputId": "f6059228-ea81-4213-df55-5f471487573c",
        "id": "rBm71mG-_CMG"
      },
      "execution_count": 684,
      "outputs": [
        {
          "output_type": "stream",
          "name": "stdout",
          "text": [
            "['Center A', 'Center B', 'Center C', 'Center D', 'Center E', 'Center F']\n",
            "['Downtown Toronto', 'East York', 'Etobicoke', 'Mississauga East', 'North Toronto', 'North York', 'Scarborough East']\n",
            "[2023, 2024, 2025]\n"
          ]
        }
      ]
    },
    {
      "cell_type": "code",
      "source": [
        "# Maximum working hours per day\n",
        "MaxWorkHour = 6\n",
        "\n",
        "# Maximum working days per year\n",
        "MaxWorkDay = 250\n",
        "\n",
        "# Average cost per distance\n",
        "DistanceCost = 0.25\n",
        "\n",
        "# Hourly Wage in 2023\n",
        "Wage2023 = 37.85\n",
        "Wage = [Wage2023, Wage2023*(1+0.025), Wage2023*(1+0.025)**2]\n",
        "\n",
        "# Governemnt Reimbursement\n",
        "Reimbursement = 42\n",
        "\n",
        "# Open Centers\n",
        "OpenCenters = centers[:4]\n",
        "\n",
        "# Hiring Cost per Worker\n",
        "HiringCost = 15000"
      ],
      "metadata": {
        "id": "UTh9sdii_CMH"
      },
      "execution_count": 685,
      "outputs": []
    },
    {
      "cell_type": "markdown",
      "source": [
        "PARAMETERS"
      ],
      "metadata": {
        "id": "w-aUkLat_CMH"
      }
    },
    {
      "cell_type": "code",
      "source": [
        "# Demand in each region (dictionary)\n",
        "regiondemand = {}\n",
        "for t in year:\n",
        "    for j in region:    \n",
        "        regiondemand[t,j] = float(predictions_df[(predictions_df['Year'] == t)&(predictions_df['Region'] == j)][\"Demand\"])\n",
        "\n",
        "# Center capacities (dictionary)\n",
        "centercapacity = {}\n",
        "for i in centers:\n",
        "    centercapacity[i] = int(dfCenters[dfCenters['Center']==i]['Maximum capacity'])\n",
        "\n",
        "# Center opening cost    \n",
        "openingcost = {}\n",
        "for i in centers:\n",
        "    openingcost[i] = int(dfCenters[dfCenters['Center']==i]['Opening Costs'])\n",
        "\n",
        "# Operating cost\n",
        "operatingcost = {}\n",
        "for i in centers:\n",
        "    operatingcost[i] = int(dfCenters[dfCenters['Center']==i]['Operating Costs'])\n",
        "\n",
        "# Center-Region average distance\n",
        "CRdistance = {}\n",
        "for i in centers:\n",
        "    for j in region:\n",
        "        CRdistance[(i,j)] = float(dfDistances[(dfDistances[\"Center\"] == i)&(dfDistances[\"Region\"] == j)][\"Distance\"])"
      ],
      "metadata": {
        "id": "bVuCE-Ft_CMH"
      },
      "execution_count": 686,
      "outputs": []
    },
    {
      "cell_type": "markdown",
      "source": [
        "VARIABLE"
      ],
      "metadata": {
        "id": "9m1Z1ivQ_CMH"
      }
    },
    {
      "cell_type": "code",
      "source": [
        "# Variables: if a center is opened\n",
        "yvar = pulp.LpVariable.dict(\"y\", (centers, years), cat=pulp.LpBinary)\n",
        "\n",
        "# Variables: amount of demand from center to region\n",
        "xvar = pulp.LpVariable.dict(\"x\", (centers, region, years), lowBound=0.0, cat=pulp.LpContinuous)\n",
        "\n",
        "# Variables: number of initial workers allocated to each center\n",
        "wvar = pulp.LpVariable.dict(\"w\", (centers, years), lowBound=0, cat=pulp.LpInteger)\n",
        "\n",
        "# Variables: \n",
        "hvar = pulp.LpVariable.dict(\"h\", (centers, years), lowBound=0, upBound=300, cat=pulp.LpInteger)\n"
      ],
      "metadata": {
        "id": "QY9WWgD2_CMH"
      },
      "execution_count": 687,
      "outputs": []
    },
    {
      "cell_type": "markdown",
      "source": [
        "MODEL INITIALIZATION"
      ],
      "metadata": {
        "id": "jr9-uqnM_CMH"
      }
    },
    {
      "cell_type": "code",
      "source": [
        "# Initialize model and objective sense\n",
        "SimpleModel = pulp.LpProblem(name=\"SimpleModel\", sense=pulp.LpMinimize)"
      ],
      "metadata": {
        "id": "VRecF6-K_CMH"
      },
      "execution_count": 705,
      "outputs": []
    },
    {
      "cell_type": "markdown",
      "source": [
        "CONSTRAINTS"
      ],
      "metadata": {
        "id": "D4DhVw2f_CMH"
      }
    },
    {
      "cell_type": "code",
      "source": [
        "# Contraint 1: hours of services provided by each center to each region could not exceed the demand in each region\n",
        "for t in years:\n",
        "    for j in region:\n",
        "        SimpleModel += pulp.lpSum([xvar[(i,j,t)]] for i in centers) == regiondemand[(t,j)]\n",
        "\n",
        "# Constraint 2: hours of services provided by each center to each region could not exceed the capacity of each center\n",
        "for t in years:\n",
        "    for i in centers:\n",
        "        SimpleModel += pulp.lpSum([xvar[(i,j,t)]] for j in region) <= centercapacity[i]*yvar[(i,t)]\n",
        "\n",
        "# Constraint 3: hours of services provided by each center to each region could not exceed the total working hours of workers in each center\n",
        "for t in years:\n",
        "    for i in centers:\n",
        "        SimpleModel += pulp.lpSum([xvar[i,j,t]] for j in region) <= MaxWorkHour * MaxWorkDay * (wvar[(i,t)] + hvar[(i,t)])\n",
        "\n",
        "# Constraint 4: number of initial workers should be equal to 560\n",
        "for t in [2023]:\n",
        "    SimpleModel += pulp.lpSum([wvar[(i,t)] for i in centers]) == 560    \n",
        "\n",
        "# Constraint 5: centers A, B, C, D must be open\n",
        "#for t in years:\n",
        "#    SimpleModel += pulp.lpSum([yvar[i,t] for i in OpenCenters]) == 4\n",
        "\n",
        "# Constranint 6: number of workers in the current year should be equal to the number of workers in the last year plus \n",
        "#                number of hiring in the current year\n",
        "for i in centers:\n",
        "    for t in [2024,2025]:\n",
        "        SimpleModel += ((wvar[(i,t)]) == wvar[(i,t-1)] + hvar[(i,t-1)])\n",
        "\n",
        "#Constraint 7: Once a center is open it cannot be closed\n",
        "#for i in centers:\n",
        "#    for t in [2024,2025]:   \n",
        "#        SimpleModel += (yvar[(i,t)]) >= yvar[(i,t-1)]\n",
        "    "
      ],
      "metadata": {
        "id": "13pRxE-i_CMH"
      },
      "execution_count": 706,
      "outputs": []
    },
    {
      "cell_type": "markdown",
      "source": [
        "OBJECTIVE FUNCTION"
      ],
      "metadata": {
        "id": "e-UE3zin_CMH"
      }
    },
    {
      "cell_type": "code",
      "source": [
        "# Center Opening Costs\n",
        "obj = pulp.lpSum([openingcost[i] * yvar[i,2023] for i in centers])\n",
        "\n",
        "# Center Operating Costs\n",
        "for t in years:\n",
        "    obj += pulp.lpSum([operatingcost[i] * yvar[i, t] for i in centers])\n",
        "\n",
        "# Service Flow Costs\n",
        "for t in years:\n",
        "    obj += pulp.lpSum([(CRdistance[(i,j)]*DistanceCost + Wage[t-2023] - Reimbursement) * xvar[(i,j,t)] for i in centers for j in region])\n",
        "\n",
        "# Hiring Costs\n",
        "for t in years:\n",
        "    obj += pulp.lpSum([HiringCost * hvar[i,t] for i in centers])\n",
        "\n",
        "# add objective to model\n",
        "SimpleModel += obj"
      ],
      "metadata": {
        "id": "6Mo7wA6g_CMH"
      },
      "execution_count": 707,
      "outputs": []
    },
    {
      "cell_type": "markdown",
      "source": [
        "SOLUTION PROCESS"
      ],
      "metadata": {
        "id": "jnlTkZeo_CMH"
      }
    },
    {
      "cell_type": "code",
      "source": [
        "# Write LP to file (optional, but often good to inspect model and find errors)\n",
        "SimpleModel.writeLP(\"SimpleModel.lp\")\n",
        "\n",
        "# Solve model\n",
        "SimpleModel.solve()\n",
        "print(\"Status:\", pulp.LpStatus[SimpleModel.status])"
      ],
      "metadata": {
        "colab": {
          "base_uri": "https://localhost:8080/"
        },
        "outputId": "c5fedb59-224f-4aaa-edf7-49c30c441a74",
        "id": "1NYrIdYm_CMH"
      },
      "execution_count": 708,
      "outputs": [
        {
          "output_type": "stream",
          "name": "stdout",
          "text": [
            "Status: Optimal\n"
          ]
        }
      ]
    },
    {
      "cell_type": "code",
      "source": [
        "# Total cost\n",
        "totalCost = pulp.value(SimpleModel.objective)\n",
        "print(\"Total cost: \" + str(totalCost))"
      ],
      "metadata": {
        "colab": {
          "base_uri": "https://localhost:8080/"
        },
        "outputId": "35b51f40-7563-4345-9351-fbbaeca4c0eb",
        "id": "kshT5dzy_CMH"
      },
      "execution_count": 709,
      "outputs": [
        {
          "output_type": "stream",
          "name": "stdout",
          "text": [
            "Total cost: 9815204.011466032\n"
          ]
        }
      ]
    },
    {
      "cell_type": "code",
      "source": [
        "# Print solution (you can add to the dataframe if needed)\n",
        "for t in years:\n",
        "    print(\"Year \" + str(t)) \n",
        "    for i in centers:\n",
        "        if yvar[i,t].varValue >= 1.0:\n",
        "            print(\"Depot \" + str(i) + \" is opened\") \n",
        "            print(str(wvar[i,t].varValue) + \"MPs work here\")  \n",
        "            print(\"Hiring\" + str(hvar[i,t].varValue))                      \n",
        "            for j in region:\n",
        "                if xvar[(i,j,t)].varValue > 0.0:\n",
        "                    print(\"\\t\\tServes zone \" + str(j) + \" - with capacity \" + str(xvar[(i,j,t)].varValue))"
      ],
      "metadata": {
        "colab": {
          "base_uri": "https://localhost:8080/"
        },
        "outputId": "e11b99f9-c9b6-460f-cdfd-7e5a93fa1711",
        "id": "N46UILt__CMI"
      },
      "execution_count": 710,
      "outputs": [
        {
          "output_type": "stream",
          "name": "stdout",
          "text": [
            "Year 2023\n",
            "Depot Center A is opened\n",
            "232.0MPs work here\n",
            "Hiring300.0\n",
            "\t\tServes zone East York - with capacity 280112.63\n",
            "\t\tServes zone Etobicoke - with capacity 651.79154\n",
            "\t\tServes zone North York - with capacity 516921.47\n",
            "Depot Center B is opened\n",
            "2.0MPs work here\n",
            "Hiring300.0\n",
            "\t\tServes zone Scarborough East - with capacity 453000.0\n",
            "Depot Center D is opened\n",
            "0.0MPs work here\n",
            "Hiring275.0\n",
            "\t\tServes zone Mississauga East - with capacity 412500.0\n",
            "Depot Center E is opened\n",
            "326.0MPs work here\n",
            "Hiring300.0\n",
            "\t\tServes zone Downtown Toronto - with capacity 404356.67\n",
            "\t\tServes zone Etobicoke - with capacity 110500.99\n",
            "\t\tServes zone North Toronto - with capacity 424142.34\n",
            "Depot Center F is opened\n",
            "0.0MPs work here\n",
            "Hiring237.0\n",
            "\t\tServes zone Etobicoke - with capacity 354423.91\n",
            "\t\tServes zone Mississauga East - with capacity 983.38556\n",
            "\t\tServes zone Scarborough East - with capacity 92.70561\n",
            "Year 2024\n",
            "Depot Center A is opened\n",
            "532.0MPs work here\n",
            "Hiring24.0\n",
            "\t\tServes zone East York - with capacity 292698.44\n",
            "\t\tServes zone North York - with capacity 540484.17\n",
            "Depot Center B is opened\n",
            "302.0MPs work here\n",
            "Hiring27.0\n",
            "\t\tServes zone Scarborough East - with capacity 473194.34\n",
            "Depot Center D is opened\n",
            "275.0MPs work here\n",
            "Hiring0.0\n",
            "\t\tServes zone Mississauga East - with capacity 333615.43\n",
            "Depot Center E is opened\n",
            "626.0MPs work here\n",
            "Hiring104.0\n",
            "\t\tServes zone Downtown Toronto - with capacity 422488.5\n",
            "\t\tServes zone Etobicoke - with capacity 229577.59\n",
            "\t\tServes zone North Toronto - with capacity 442933.91\n",
            "Depot Center F is opened\n",
            "237.0MPs work here\n",
            "Hiring0.0\n",
            "\t\tServes zone Etobicoke - with capacity 257123.68\n",
            "\t\tServes zone Mississauga East - with capacity 98376.321\n",
            "Year 2025\n",
            "Depot Center A is opened\n",
            "556.0MPs work here\n",
            "Hiring25.0\n",
            "\t\tServes zone East York - with capacity 305849.75\n",
            "\t\tServes zone Etobicoke - with capacity 529.32977\n",
            "\t\tServes zone North York - with capacity 565120.92\n",
            "Depot Center B is opened\n",
            "329.0MPs work here\n",
            "Hiring1.0\n",
            "\t\tServes zone Etobicoke - with capacity 575.00462\n",
            "\t\tServes zone Scarborough East - with capacity 494187.8\n",
            "Depot Center D is opened\n",
            "275.0MPs work here\n",
            "Hiring0.0\n",
            "\t\tServes zone Mississauga East - with capacity 412500.0\n",
            "Depot Center E is opened\n",
            "730.0MPs work here\n",
            "Hiring0.0\n",
            "\t\tServes zone Downtown Toronto - with capacity 441433.38\n",
            "\t\tServes zone Etobicoke - with capacity 191008.58\n",
            "\t\tServes zone North Toronto - with capacity 462558.04\n",
            "Depot Center F is opened\n",
            "237.0MPs work here\n",
            "Hiring0.0\n",
            "\t\tServes zone Etobicoke - with capacity 316671.42\n",
            "\t\tServes zone Mississauga East - with capacity 38828.583\n"
          ]
        }
      ]
    },
    {
      "cell_type": "markdown",
      "source": [
        "### Apendix"
      ],
      "metadata": {
        "id": "PA3Q0POgGq0z"
      }
    },
    {
      "cell_type": "code",
      "source": [
        "# Group the data by region and calculate the CAGR for each region\n",
        "cagr_by_region = (grouped_data.last() / grouped_data.first()) ** (1 / 9) - 1\n",
        "\n",
        "# Extract the CAGR values for each region\n",
        "cagr_values = cagr_by_region.loc[:, 'Demand']\n",
        "\n",
        "# Print the CAGR for each region\n",
        "print('CAGR of demand per region:')\n",
        "print(cagr_values)\n",
        "\n",
        "# Calculate the demand for the last year for each region\n",
        "last_year_demand_by_region = grouped_data.tail(1).set_index('Region')['Demand']\n",
        "\n",
        "# Predict the demand for the next three years for each region\n",
        "next_three_years_by_region = pd.DataFrame({\n",
        "    'region': cagr_values.index.repeat(3),\n",
        "    'year': [2023, 2024, 2025] * len(cagr_values.index),\n",
        "    'demand': np.tile(last_year_demand_by_region.values * (1 + cagr_values.values), 3)\n",
        "})\n",
        "\n",
        "# Print the predicted demand for the next three years for each region\n",
        "print('Predicted demand for the next three years by region:')\n",
        "print(next_three_years_by_region)\n"
      ],
      "metadata": {
        "id": "eOQCJ3OhGslK"
      },
      "execution_count": null,
      "outputs": []
    }
  ]
}