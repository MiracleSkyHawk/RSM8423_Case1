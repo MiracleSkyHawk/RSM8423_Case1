{
 "cells": [
  {
   "cell_type": "markdown",
   "metadata": {},
   "source": [
    "### Class 4 - Network Design\n",
    "RSM-8423, Winter 2023"
   ]
  },
  {
   "cell_type": "markdown",
   "metadata": {},
   "source": [
    "### Modules"
   ]
  },
  {
   "cell_type": "code",
   "execution_count": 2,
   "metadata": {},
   "outputs": [],
   "source": [
    "import pandas as pd\n",
    "import numpy as np\n",
    "import matplotlib.pyplot as plt\n",
    "import seaborn as sns\n",
    "import pulp\n",
    "\n",
    "from scipy import stats\n",
    "\n",
    "# Initialize seaborn (for plotting)\n",
    "sns.set()"
   ]
  },
  {
   "cell_type": "markdown",
   "metadata": {},
   "source": [
    "### Loading and inspecting data\n",
    "\n",
    "The same as in Class 4"
   ]
  },
  {
   "cell_type": "code",
   "execution_count": 3,
   "metadata": {},
   "outputs": [
    {
     "data": {
      "text/html": [
       "<div>\n",
       "<style scoped>\n",
       "    .dataframe tbody tr th:only-of-type {\n",
       "        vertical-align: middle;\n",
       "    }\n",
       "\n",
       "    .dataframe tbody tr th {\n",
       "        vertical-align: top;\n",
       "    }\n",
       "\n",
       "    .dataframe thead th {\n",
       "        text-align: right;\n",
       "    }\n",
       "</style>\n",
       "<table border=\"1\" class=\"dataframe\">\n",
       "  <thead>\n",
       "    <tr style=\"text-align: right;\">\n",
       "      <th></th>\n",
       "      <th>Cost</th>\n",
       "      <th>Capacity</th>\n",
       "    </tr>\n",
       "    <tr>\n",
       "      <th>Depot</th>\n",
       "      <th></th>\n",
       "      <th></th>\n",
       "    </tr>\n",
       "  </thead>\n",
       "  <tbody>\n",
       "    <tr>\n",
       "      <th>1</th>\n",
       "      <td>14754</td>\n",
       "      <td>120</td>\n",
       "    </tr>\n",
       "    <tr>\n",
       "      <th>2</th>\n",
       "      <td>15814</td>\n",
       "      <td>140</td>\n",
       "    </tr>\n",
       "    <tr>\n",
       "      <th>3</th>\n",
       "      <td>9200</td>\n",
       "      <td>20</td>\n",
       "    </tr>\n",
       "    <tr>\n",
       "      <th>4</th>\n",
       "      <td>15870</td>\n",
       "      <td>120</td>\n",
       "    </tr>\n",
       "  </tbody>\n",
       "</table>\n",
       "</div>"
      ],
      "text/plain": [
       "        Cost  Capacity\n",
       "Depot                 \n",
       "1      14754       120\n",
       "2      15814       140\n",
       "3       9200        20\n",
       "4      15870       120"
      ]
     },
     "execution_count": 3,
     "metadata": {},
     "output_type": "execute_result"
    }
   ],
   "source": [
    "# Depots\n",
    "dfDepots = pd.read_csv(\"depots.csv\", index_col=0)\n",
    "dfDepots"
   ]
  },
  {
   "cell_type": "code",
   "execution_count": 4,
   "metadata": {},
   "outputs": [
    {
     "data": {
      "text/html": [
       "<div>\n",
       "<style scoped>\n",
       "    .dataframe tbody tr th:only-of-type {\n",
       "        vertical-align: middle;\n",
       "    }\n",
       "\n",
       "    .dataframe tbody tr th {\n",
       "        vertical-align: top;\n",
       "    }\n",
       "\n",
       "    .dataframe thead th {\n",
       "        text-align: right;\n",
       "    }\n",
       "</style>\n",
       "<table border=\"1\" class=\"dataframe\">\n",
       "  <thead>\n",
       "    <tr style=\"text-align: right;\">\n",
       "      <th></th>\n",
       "      <th>Demand</th>\n",
       "    </tr>\n",
       "    <tr>\n",
       "      <th>Demand Zone</th>\n",
       "      <th></th>\n",
       "    </tr>\n",
       "  </thead>\n",
       "  <tbody>\n",
       "    <tr>\n",
       "      <th>1</th>\n",
       "      <td>82</td>\n",
       "    </tr>\n",
       "    <tr>\n",
       "      <th>2</th>\n",
       "      <td>41</td>\n",
       "    </tr>\n",
       "    <tr>\n",
       "      <th>3</th>\n",
       "      <td>94</td>\n",
       "    </tr>\n",
       "  </tbody>\n",
       "</table>\n",
       "</div>"
      ],
      "text/plain": [
       "             Demand\n",
       "Demand Zone        \n",
       "1                82\n",
       "2                41\n",
       "3                94"
      ]
     },
     "execution_count": 4,
     "metadata": {},
     "output_type": "execute_result"
    }
   ],
   "source": [
    "# Demand Zones\n",
    "dfZones = pd.read_csv(\"zones.csv\", index_col=0)\n",
    "dfZones"
   ]
  },
  {
   "cell_type": "code",
   "execution_count": 5,
   "metadata": {},
   "outputs": [
    {
     "data": {
      "text/html": [
       "<div>\n",
       "<style scoped>\n",
       "    .dataframe tbody tr th:only-of-type {\n",
       "        vertical-align: middle;\n",
       "    }\n",
       "\n",
       "    .dataframe tbody tr th {\n",
       "        vertical-align: top;\n",
       "    }\n",
       "\n",
       "    .dataframe thead th {\n",
       "        text-align: right;\n",
       "    }\n",
       "</style>\n",
       "<table border=\"1\" class=\"dataframe\">\n",
       "  <thead>\n",
       "    <tr style=\"text-align: right;\">\n",
       "      <th></th>\n",
       "      <th>Demand Zone</th>\n",
       "      <th>Depot</th>\n",
       "      <th>Cost</th>\n",
       "    </tr>\n",
       "  </thead>\n",
       "  <tbody>\n",
       "    <tr>\n",
       "      <th>0</th>\n",
       "      <td>1</td>\n",
       "      <td>1</td>\n",
       "      <td>1998</td>\n",
       "    </tr>\n",
       "    <tr>\n",
       "      <th>1</th>\n",
       "      <td>2</td>\n",
       "      <td>1</td>\n",
       "      <td>1470</td>\n",
       "    </tr>\n",
       "    <tr>\n",
       "      <th>2</th>\n",
       "      <td>3</td>\n",
       "      <td>1</td>\n",
       "      <td>1993</td>\n",
       "    </tr>\n",
       "    <tr>\n",
       "      <th>3</th>\n",
       "      <td>1</td>\n",
       "      <td>2</td>\n",
       "      <td>1187</td>\n",
       "    </tr>\n",
       "    <tr>\n",
       "      <th>4</th>\n",
       "      <td>2</td>\n",
       "      <td>2</td>\n",
       "      <td>1217</td>\n",
       "    </tr>\n",
       "    <tr>\n",
       "      <th>5</th>\n",
       "      <td>3</td>\n",
       "      <td>2</td>\n",
       "      <td>1510</td>\n",
       "    </tr>\n",
       "    <tr>\n",
       "      <th>6</th>\n",
       "      <td>1</td>\n",
       "      <td>3</td>\n",
       "      <td>1005</td>\n",
       "    </tr>\n",
       "    <tr>\n",
       "      <th>7</th>\n",
       "      <td>2</td>\n",
       "      <td>3</td>\n",
       "      <td>1734</td>\n",
       "    </tr>\n",
       "    <tr>\n",
       "      <th>8</th>\n",
       "      <td>3</td>\n",
       "      <td>3</td>\n",
       "      <td>1100</td>\n",
       "    </tr>\n",
       "    <tr>\n",
       "      <th>9</th>\n",
       "      <td>1</td>\n",
       "      <td>4</td>\n",
       "      <td>1416</td>\n",
       "    </tr>\n",
       "    <tr>\n",
       "      <th>10</th>\n",
       "      <td>2</td>\n",
       "      <td>4</td>\n",
       "      <td>1377</td>\n",
       "    </tr>\n",
       "    <tr>\n",
       "      <th>11</th>\n",
       "      <td>3</td>\n",
       "      <td>4</td>\n",
       "      <td>1890</td>\n",
       "    </tr>\n",
       "  </tbody>\n",
       "</table>\n",
       "</div>"
      ],
      "text/plain": [
       "    Demand Zone  Depot  Cost\n",
       "0             1      1  1998\n",
       "1             2      1  1470\n",
       "2             3      1  1993\n",
       "3             1      2  1187\n",
       "4             2      2  1217\n",
       "5             3      2  1510\n",
       "6             1      3  1005\n",
       "7             2      3  1734\n",
       "8             3      3  1100\n",
       "9             1      4  1416\n",
       "10            2      4  1377\n",
       "11            3      4  1890"
      ]
     },
     "execution_count": 5,
     "metadata": {},
     "output_type": "execute_result"
    }
   ],
   "source": [
    "# Zone-depot costs\n",
    "dfZoneDepot = pd.read_csv(\"zone_depot_costs.csv\")\n",
    "dfZoneDepot"
   ]
  },
  {
   "cell_type": "markdown",
   "metadata": {},
   "source": [
    "### Sets"
   ]
  },
  {
   "cell_type": "code",
   "execution_count": 6,
   "metadata": {},
   "outputs": [],
   "source": [
    "# Depots\n",
    "depots = list(dfDepots.index)\n",
    "numdepots = len(depots)\n",
    "\n",
    "# Demand zones\n",
    "zones = list(dfZoneDepot[\"Demand Zone\"].unique())\n",
    "numzones = len(zones)"
   ]
  },
  {
   "cell_type": "markdown",
   "metadata": {},
   "source": [
    "### Parameters"
   ]
  },
  {
   "cell_type": "code",
   "execution_count": 7,
   "metadata": {},
   "outputs": [],
   "source": [
    "# Demand in each zone (dictionary)\n",
    "zonedemand = {}\n",
    "for j in zones:    \n",
    "    zonedemand[j] = float(dfZones.loc[j][\"Demand\"])\n",
    "\n",
    "# Depot capacities (dictionary)\n",
    "depotcapacity = {}\n",
    "for i in depots:\n",
    "    depotcapacity[i] = int(dfDepots.loc[i][\"Capacity\"])\n",
    "\n",
    "# Depot costs (dictionary)\n",
    "depotcost = {}\n",
    "for i in depots:\n",
    "    depotcost[i] = float(dfDepots.loc[i][\"Cost\"])\n",
    "    \n",
    "# Depot-zone costs (dictionary)\n",
    "depotzonecost = {}\n",
    "for i in depots:\n",
    "    for j in zones:\n",
    "        depotzonecost[(i,j)] = float(dfZoneDepot[(dfZoneDepot[\"Depot\"] == i)&(dfZoneDepot[\"Demand Zone\"] == j)][\"Cost\"])"
   ]
  },
  {
   "cell_type": "markdown",
   "metadata": {},
   "source": [
    "### Variables"
   ]
  },
  {
   "cell_type": "code",
   "execution_count": 8,
   "metadata": {},
   "outputs": [],
   "source": [
    "# Variables: if a depot is opened/allocated\n",
    "yvar = pulp.LpVariable.dict(\"y\", depots, cat=pulp.LpBinary)\n",
    "\n",
    "# Variables: amount of demand from each zone allocated to depot, per scenario\n",
    "xvar = pulp.LpVariable.dict(\"x\", (depots, zones), lowBound=0.0, cat=pulp.LpContinuous)"
   ]
  },
  {
   "cell_type": "markdown",
   "metadata": {},
   "source": [
    "### Model initialization\n"
   ]
  },
  {
   "cell_type": "code",
   "execution_count": 9,
   "metadata": {},
   "outputs": [],
   "source": [
    "# Initialize model and objective sense\n",
    "locationModel = pulp.LpProblem(name=\"LocationModel\", sense=pulp.LpMinimize)"
   ]
  },
  {
   "cell_type": "markdown",
   "metadata": {},
   "source": [
    "### Constraints"
   ]
  },
  {
   "cell_type": "code",
   "execution_count": 10,
   "metadata": {},
   "outputs": [],
   "source": [
    "# Contraint: demand must be satisfied in all scenarios\n",
    "for j in zones:\n",
    "    locationModel += pulp.lpSum( [xvar[(i,j)] for i in depots] ) == zonedemand[j]\n",
    "\n",
    "# Constraint: depot capacities must be observed in all scenarios\n",
    "for i in depots:        \n",
    "    locationModel += pulp.lpSum( [xvar[(i,j)] for j in zones] ) <= depotcapacity[i] * yvar[i]"
   ]
  },
  {
   "cell_type": "markdown",
   "metadata": {},
   "source": [
    "### Objective function"
   ]
  },
  {
   "cell_type": "code",
   "execution_count": 11,
   "metadata": {},
   "outputs": [],
   "source": [
    "# Objective function\n",
    "\n",
    "# --- depot allocation costs\n",
    "obj = pulp.lpSum([ depotcost[i] * yvar[i] for i in depots])\n",
    "\n",
    "# --- package flow costs\n",
    "obj += pulp.lpSum( [ depotzonecost[(i,j)] * xvar[(i,j)] for i in depots for j in zones ] )\n",
    "\n",
    "# add objective to model\n",
    "locationModel += obj"
   ]
  },
  {
   "cell_type": "markdown",
   "metadata": {},
   "source": [
    "### Solution process"
   ]
  },
  {
   "cell_type": "code",
   "execution_count": 12,
   "metadata": {},
   "outputs": [
    {
     "name": "stdout",
     "output_type": "stream",
     "text": [
      "Status: Optimal\n"
     ]
    }
   ],
   "source": [
    "# Write LP to file (optional, but often good to inspect model and find errors)\n",
    "locationModel.writeLP(\"locationModel.lp\")\n",
    "\n",
    "# Solve model\n",
    "locationModel.solve()\n",
    "print(\"Status:\", pulp.LpStatus[locationModel.status])"
   ]
  },
  {
   "cell_type": "code",
   "execution_count": 12,
   "metadata": {},
   "outputs": [
    {
     "name": "stdout",
     "output_type": "stream",
     "text": [
      "Total cost: 332079.0\n"
     ]
    }
   ],
   "source": [
    "# Total cost\n",
    "totalCost = pulp.value(locationModel.objective)\n",
    "print(\"Total cost: \" + str(totalCost))"
   ]
  },
  {
   "cell_type": "code",
   "execution_count": 13,
   "metadata": {},
   "outputs": [
    {
     "name": "stdout",
     "output_type": "stream",
     "text": [
      "Depot 2 is opened\n",
      "\t\tServes zone 1 - with capacity 66.0\n",
      "\t\tServes zone 3 - with capacity 74.0\n",
      "Depot 3 is opened\n",
      "\t\tServes zone 3 - with capacity 20.0\n",
      "Depot 4 is opened\n",
      "\t\tServes zone 1 - with capacity 16.0\n",
      "\t\tServes zone 2 - with capacity 41.0\n"
     ]
    }
   ],
   "source": [
    "# Print solution (you can add to the dataframe if needed)\n",
    "for i in depots:\n",
    "    if yvar[i].varValue >= 1.0:\n",
    "        print(\"Depot \" + str(i) + \" is opened\")                            \n",
    "        for j in zones:\n",
    "            if xvar[(i,j)].varValue > 0.0:\n",
    "                print(\"\\t\\tServes zone \" + str(j) + \" - with capacity \" + str(xvar[(i,j)].varValue))"
   ]
  }
 ],
 "metadata": {
  "kernelspec": {
   "display_name": "Python 3 (ipykernel)",
   "language": "python",
   "name": "python3"
  },
  "language_info": {
   "codemirror_mode": {
    "name": "ipython",
    "version": 3
   },
   "file_extension": ".py",
   "mimetype": "text/x-python",
   "name": "python",
   "nbconvert_exporter": "python",
   "pygments_lexer": "ipython3",
   "version": "3.9.12"
  }
 },
 "nbformat": 4,
 "nbformat_minor": 2
}
